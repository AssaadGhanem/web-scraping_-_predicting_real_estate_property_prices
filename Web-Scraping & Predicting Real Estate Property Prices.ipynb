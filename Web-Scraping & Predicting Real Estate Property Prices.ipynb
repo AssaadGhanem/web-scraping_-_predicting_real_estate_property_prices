{
 "cells": [
  {
   "cell_type": "code",
   "execution_count": 7,
   "id": "7b2bea42",
   "metadata": {
    "scrolled": true
   },
   "outputs": [
    {
     "name": "stdout",
     "output_type": "stream",
     "text": [
      "Requirement already satisfied: selenium in c:\\users\\assaa\\anaconda3\\lib\\site-packages (4.6.0)\n",
      "Requirement already satisfied: trio-websocket~=0.9 in c:\\users\\assaa\\anaconda3\\lib\\site-packages (from selenium) (0.9.2)\n",
      "Requirement already satisfied: certifi>=2021.10.8 in c:\\users\\assaa\\anaconda3\\lib\\site-packages (from selenium) (2022.9.14)\n",
      "Requirement already satisfied: urllib3[socks]~=1.26 in c:\\users\\assaa\\anaconda3\\lib\\site-packages (from selenium) (1.26.11)\n",
      "Requirement already satisfied: trio~=0.17 in c:\\users\\assaa\\anaconda3\\lib\\site-packages (from selenium) (0.22.0)\n",
      "Requirement already satisfied: async-generator>=1.9 in c:\\users\\assaa\\anaconda3\\lib\\site-packages (from trio~=0.17->selenium) (1.10)\n",
      "Requirement already satisfied: cffi>=1.14 in c:\\users\\assaa\\anaconda3\\lib\\site-packages (from trio~=0.17->selenium) (1.15.1)\n",
      "Requirement already satisfied: outcome in c:\\users\\assaa\\anaconda3\\lib\\site-packages (from trio~=0.17->selenium) (1.2.0)\n",
      "Requirement already satisfied: sortedcontainers in c:\\users\\assaa\\anaconda3\\lib\\site-packages (from trio~=0.17->selenium) (2.4.0)\n",
      "Requirement already satisfied: idna in c:\\users\\assaa\\anaconda3\\lib\\site-packages (from trio~=0.17->selenium) (3.3)\n",
      "Requirement already satisfied: sniffio in c:\\users\\assaa\\anaconda3\\lib\\site-packages (from trio~=0.17->selenium) (1.2.0)\n",
      "Requirement already satisfied: exceptiongroup>=1.0.0rc9 in c:\\users\\assaa\\anaconda3\\lib\\site-packages (from trio~=0.17->selenium) (1.0.1)\n",
      "Requirement already satisfied: attrs>=19.2.0 in c:\\users\\assaa\\anaconda3\\lib\\site-packages (from trio~=0.17->selenium) (21.4.0)\n",
      "Requirement already satisfied: wsproto>=0.14 in c:\\users\\assaa\\anaconda3\\lib\\site-packages (from trio-websocket~=0.9->selenium) (1.2.0)\n",
      "Requirement already satisfied: PySocks!=1.5.7,<2.0,>=1.5.6 in c:\\users\\assaa\\anaconda3\\lib\\site-packages (from urllib3[socks]~=1.26->selenium) (1.7.1)\n",
      "Requirement already satisfied: pycparser in c:\\users\\assaa\\anaconda3\\lib\\site-packages (from cffi>=1.14->trio~=0.17->selenium) (2.21)\n",
      "Requirement already satisfied: h11<1,>=0.9.0 in c:\\users\\assaa\\anaconda3\\lib\\site-packages (from wsproto>=0.14->trio-websocket~=0.9->selenium) (0.14.0)\n",
      "Note: you may need to restart the kernel to use updated packages.\n"
     ]
    }
   ],
   "source": [
    "pip install selenium"
   ]
  },
  {
   "cell_type": "code",
   "execution_count": 3587,
   "id": "fcfe6217",
   "metadata": {},
   "outputs": [
    {
     "name": "stdout",
     "output_type": "stream",
     "text": [
      "Collecting xgboost\n",
      "  Downloading xgboost-1.7.1-py3-none-win_amd64.whl (89.1 MB)\n",
      "     ---------------------------------------- 89.1/89.1 MB 9.8 MB/s eta 0:00:00\n",
      "Requirement already satisfied: numpy in c:\\users\\assaa\\anaconda3\\lib\\site-packages (from xgboost) (1.21.5)\n",
      "Requirement already satisfied: scipy in c:\\users\\assaa\\anaconda3\\lib\\site-packages (from xgboost) (1.9.1)\n",
      "Installing collected packages: xgboost\n",
      "Successfully installed xgboost-1.7.1\n",
      "Note: you may need to restart the kernel to use updated packages.\n"
     ]
    }
   ],
   "source": [
    "pip install xgboost"
   ]
  },
  {
   "cell_type": "code",
   "execution_count": 74,
   "id": "6dcdd793",
   "metadata": {},
   "outputs": [],
   "source": [
    "from selenium import webdriver\n",
    "from webdriver_manager.chrome import ChromeDriverManager\n",
    "from selenium.webdriver.chrome.service import Service as ChromeService\n",
    "from selenium.webdriver.chrome.options import Options\n",
    "from selenium.webdriver.common.by import By\n",
    "import time\n",
    "import pandas as pd\n",
    "import re"
   ]
  },
  {
   "cell_type": "code",
   "execution_count": 78,
   "id": "d104615a",
   "metadata": {},
   "outputs": [],
   "source": [
    "import numpy as np\n",
    "\n",
    "import matplotlib.pyplot as plt\n",
    "import seaborn as sns"
   ]
  },
  {
   "cell_type": "markdown",
   "id": "6adc53de",
   "metadata": {},
   "source": [
    "<b>DATA WEB-SCRAPING</b>"
   ]
  },
  {
   "cell_type": "code",
   "execution_count": 390,
   "id": "26b970db",
   "metadata": {
    "scrolled": true
   },
   "outputs": [],
   "source": [
    "# Install Chrome Driver Manager\n",
    "\n",
    "driver = webdriver.Chrome(service=ChromeService(executable_path=ChromeDriverManager().install()))"
   ]
  },
  {
   "cell_type": "code",
   "execution_count": 391,
   "id": "2fa5c65b",
   "metadata": {},
   "outputs": [
    {
     "name": "stderr",
     "output_type": "stream",
     "text": [
      "C:\\Users\\assaa\\AppData\\Local\\Temp\\ipykernel_30980\\3194840701.py:7: DeprecationWarning: use options instead of chrome_options\n",
      "  driver = webdriver.Chrome(chrome_options=opts)\n"
     ]
    }
   ],
   "source": [
    "# Communicate your user-agent\n",
    "\n",
    "opts = Options()\n",
    "opts.add_argument\n",
    "(\"user-agent= Mozilla/5.0 (Windows NT 10.0; Win64; x64) AppleWebKit/537.36 (KHTML, like Gecko) Chrome/107.0.0.0 Safari/537.36\")\n",
    "\n",
    "driver = webdriver.Chrome(chrome_options=opts)"
   ]
  },
  {
   "cell_type": "code",
   "execution_count": 392,
   "id": "6b433a86",
   "metadata": {},
   "outputs": [],
   "source": [
    "# Open the first page that we need data from\n",
    "\n",
    "driver.get(\"https://www.superimmo.com/achat/ile-de-france/p/0\")\n",
    "\n",
    "# Take a break\n",
    "\n",
    "time.sleep(2)\n",
    "\n",
    "# Finding the button of the pop-up window on the web page\n",
    "\n",
    "button = driver.find_element(By.XPATH,\"//*[@id='tarteaucitronPersonalize2']\")\n",
    "\n",
    "# Take a break\n",
    "\n",
    "time.sleep(2)\n",
    "\n",
    "# Click the button\n",
    "\n",
    "button.click()\n",
    "\n",
    "# Take a break\n",
    "\n",
    "time.sleep(2)"
   ]
  },
  {
   "cell_type": "code",
   "execution_count": 393,
   "id": "a0c605fa",
   "metadata": {
    "scrolled": false
   },
   "outputs": [],
   "source": [
    "all_data_dict = []\n",
    "\n",
    "for n in range(1,500):\n",
    "    for m in range(1,11):\n",
    "        driver.get(\"https://www.superimmo.com/achat/ile-de-france/p/{}\".format(n))\n",
    "        time.sleep(0.5)\n",
    "\n",
    "        data_dict = {}\n",
    "\n",
    "        property_price = driver.find_element(by=By.XPATH,value=\n",
    "                                             \"//*[@id='pjax-container']/section/article[{}]/section/div[3]/p/a/b[1]\".format(m))\n",
    "\n",
    "        # Getting the formated property price\n",
    "        data_dict['price EUR'] = property_price.text\n",
    "        if data_dict['price EUR'] == '':\n",
    "            data_dict['price EUR'] = data_dict['price EUR']\n",
    "        else:\n",
    "            data_dict['price EUR'] = int(re.sub(r'[^0-9]', '', data_dict['price EUR']))\n",
    "\n",
    "        type_size_cells_rooms = driver.find_element(by=By.XPATH,value=\n",
    "                                                    \"//*[@id='pjax-container']/section/article[{}]/section/div[3]/p/a/b[2]\".format(m))\n",
    "\n",
    "        # Getting the formated type of the property\n",
    "        data_dict['type'] = type_size_cells_rooms.text.split(\" • \")\n",
    "        data_dict['type'] = data_dict['type'][0]\n",
    "\n",
    "        # Getting the formated size of the property\n",
    "        data_dict['size m²'] = type_size_cells_rooms.text.split(\" • \")\n",
    "        if \" m²\" in data_dict['size m²'][1]:\n",
    "            data_dict['size m²'] = data_dict['size m²'][1]\n",
    "            data_dict['size m²'] = data_dict['size m²'].replace(\" m²\", \"\")\n",
    "            if \",\" in data_dict['size m²']:\n",
    "                data_dict['size m²'] = float(data_dict['size m²'].replace(\" m²\", \"\").replace(\",\",\".\"))\n",
    "            else:\n",
    "                data_dict['size m²'] = int(data_dict['size m²'].replace(\" \", \"\"))\n",
    "        else:\n",
    "            data_dict['size m²'] == None\n",
    "\n",
    "        # Getting the formated number of cells of the property\n",
    "        data_dict['cells'] = type_size_cells_rooms.text\n",
    "        if \"pièces\" in data_dict['cells']:\n",
    "            sindex = re.search(r\"pièces\",data_dict['cells']).start()\n",
    "            data_dict['cells'] = data_dict['cells'][re.search(r\"pièces\",data_dict['cells']).start()-2:sindex+len(r\"pièces\")]\n",
    "            data_dict['cells'] = int(data_dict['cells'].replace(\" pièces\", \"\"))\n",
    "        elif \"pièce\" in data_dict['cells']:\n",
    "            sindex = re.search(r\"pièce\",data_dict['cells']).start()\n",
    "            data_dict['cells'] = data_dict['cells'][re.search(r\"pièce\",data_dict['cells']).start()-2:sindex+len(r\"pièce\")]\n",
    "            data_dict['cells'] = int(data_dict['cells'].replace(\" pièce\", \"\"))\n",
    "        else:\n",
    "            data_dict['cells'] = None\n",
    "            \n",
    "        # Getting the formated number of bedrooms of the property\n",
    "        data_dict['rooms'] = type_size_cells_rooms.text\n",
    "        if \"chambres\" in data_dict[\"rooms\"]:\n",
    "            sindex = re.search(r\"chambres\",data_dict[\"rooms\"]).start()\n",
    "            data_dict[\"rooms\"] = data_dict[\"rooms\"][re.search(r\"chambres\",data_dict[\"rooms\"]).start()-2:sindex+len(r\"chambres\")]\n",
    "            data_dict[\"rooms\"] = int(data_dict[\"rooms\"].replace(\" chambres\", \"\"))\n",
    "        elif \"chambre\" in data_dict[\"rooms\"]:\n",
    "            sindex = re.search(r\"chambre\",data_dict[\"rooms\"]).start()\n",
    "            data_dict[\"rooms\"] = data_dict[\"rooms\"][re.search(r\"chambre\",data_dict[\"rooms\"]).start()-2:sindex+len(r\"chambre\")]\n",
    "            data_dict[\"rooms\"] = int(data_dict[\"rooms\"].replace(\" chambre\", \"\"))\n",
    "        else:\n",
    "            data_dict['rooms'] = None\n",
    "            \n",
    "        city_postcode = driver.find_element(by=By.XPATH,value=\n",
    "                                            \"//*[@id='pjax-container']/section/article[{}]/section/div[3]/b\".format(m))\n",
    "\n",
    "        # Getting the formated city name of the property\n",
    "        data_dict['city']= city_postcode.text\n",
    "        data_dict['city']= re.sub('[0-9]','', data_dict['city'])\n",
    "        data_dict['city']= re.sub(r'\\W+', '', data_dict['city'])\n",
    "        if data_dict['city'] == \"Parisème\":\n",
    "            sindex = re.search(r\"Paris\",data_dict[\"city\"]).start()\n",
    "            data_dict['city'] = data_dict['city'][re.search(r\"Paris\",data_dict['city']).start():sindex+len(r\"Paris\")]\n",
    "        else:\n",
    "            data_dict['city']= data_dict['city']\n",
    "\n",
    "        # Getting the formated postal code of the property\n",
    "        data_dict['postal_code']= city_postcode.text\n",
    "        data_dict['postal_code']= re.sub('[^0-9\\,]','', data_dict['postal_code'])\n",
    "        if len(data_dict['postal_code']) == 7:\n",
    "            data_dict['postal_code'] = data_dict['postal_code'][2:]\n",
    "        elif len(data_dict['postal_code']) == 6:\n",
    "            data_dict['postal_code'] = data_dict['postal_code'][1:]\n",
    "        else:\n",
    "            data_dict['postal_code'] = data_dict['postal_code']\n",
    "\n",
    "        time.sleep(0.5)\n",
    "\n",
    "        all_data_dict.append(data_dict)\n",
    "        \n",
    "        df = pd.DataFrame.from_dict(all_data_dict)"
   ]
  },
  {
   "cell_type": "code",
   "execution_count": 406,
   "id": "eb16da8e",
   "metadata": {
    "scrolled": true
   },
   "outputs": [
    {
     "data": {
      "text/html": [
       "<div>\n",
       "<style scoped>\n",
       "    .dataframe tbody tr th:only-of-type {\n",
       "        vertical-align: middle;\n",
       "    }\n",
       "\n",
       "    .dataframe tbody tr th {\n",
       "        vertical-align: top;\n",
       "    }\n",
       "\n",
       "    .dataframe thead th {\n",
       "        text-align: right;\n",
       "    }\n",
       "</style>\n",
       "<table border=\"1\" class=\"dataframe\">\n",
       "  <thead>\n",
       "    <tr style=\"text-align: right;\">\n",
       "      <th></th>\n",
       "      <th>price EUR</th>\n",
       "      <th>type</th>\n",
       "      <th>size m²</th>\n",
       "      <th>cells</th>\n",
       "      <th>rooms</th>\n",
       "      <th>city</th>\n",
       "      <th>postal_code</th>\n",
       "    </tr>\n",
       "  </thead>\n",
       "  <tbody>\n",
       "    <tr>\n",
       "      <th>0</th>\n",
       "      <td>548000</td>\n",
       "      <td>Appartement</td>\n",
       "      <td>87</td>\n",
       "      <td>4.0</td>\n",
       "      <td>3.0</td>\n",
       "      <td>AsnièressurSeine</td>\n",
       "      <td>92600</td>\n",
       "    </tr>\n",
       "    <tr>\n",
       "      <th>1</th>\n",
       "      <td>165000</td>\n",
       "      <td>Appartement</td>\n",
       "      <td>42.09</td>\n",
       "      <td>2.0</td>\n",
       "      <td>1.0</td>\n",
       "      <td>LesPavillonssousBois</td>\n",
       "      <td>93320</td>\n",
       "    </tr>\n",
       "    <tr>\n",
       "      <th>2</th>\n",
       "      <td>435000</td>\n",
       "      <td>Appartement</td>\n",
       "      <td>66</td>\n",
       "      <td>3.0</td>\n",
       "      <td>2.0</td>\n",
       "      <td>Montreuil</td>\n",
       "      <td>93100</td>\n",
       "    </tr>\n",
       "    <tr>\n",
       "      <th>3</th>\n",
       "      <td>199000</td>\n",
       "      <td>Appartement</td>\n",
       "      <td>68.48</td>\n",
       "      <td>3.0</td>\n",
       "      <td>2.0</td>\n",
       "      <td>RosnysousBois</td>\n",
       "      <td>93110</td>\n",
       "    </tr>\n",
       "    <tr>\n",
       "      <th>4</th>\n",
       "      <td>175000</td>\n",
       "      <td>Appartement</td>\n",
       "      <td>93</td>\n",
       "      <td>5.0</td>\n",
       "      <td>4.0</td>\n",
       "      <td>Aubergenville</td>\n",
       "      <td>78410</td>\n",
       "    </tr>\n",
       "  </tbody>\n",
       "</table>\n",
       "</div>"
      ],
      "text/plain": [
       "   price EUR         type size m²  cells  rooms                  city  \\\n",
       "0     548000  Appartement      87    4.0    3.0      AsnièressurSeine   \n",
       "1     165000  Appartement   42.09    2.0    1.0  LesPavillonssousBois   \n",
       "2     435000  Appartement      66    3.0    2.0             Montreuil   \n",
       "3     199000  Appartement   68.48    3.0    2.0         RosnysousBois   \n",
       "4     175000  Appartement      93    5.0    4.0         Aubergenville   \n",
       "\n",
       "  postal_code  \n",
       "0       92600  \n",
       "1       93320  \n",
       "2       93100  \n",
       "3       93110  \n",
       "4       78410  "
      ]
     },
     "execution_count": 406,
     "metadata": {},
     "output_type": "execute_result"
    }
   ],
   "source": [
    "df.head(5)"
   ]
  },
  {
   "cell_type": "markdown",
   "id": "241161a0",
   "metadata": {},
   "source": [
    "<b>EXPLORATORY DATA ANALYSIS</b>"
   ]
  },
  {
   "cell_type": "code",
   "execution_count": 3518,
   "id": "a799b482",
   "metadata": {},
   "outputs": [
    {
     "name": "stdout",
     "output_type": "stream",
     "text": [
      "The dataset is composed of 4990 rows and 8 columns\n"
     ]
    }
   ],
   "source": [
    "print(\"The dataset is composed of\", df.shape[0], \"rows and\", df.shape[1], \"columns\")"
   ]
  },
  {
   "cell_type": "code",
   "execution_count": 3519,
   "id": "bde9a7d4",
   "metadata": {
    "scrolled": true
   },
   "outputs": [
    {
     "name": "stdout",
     "output_type": "stream",
     "text": [
      "<class 'pandas.core.frame.DataFrame'>\n",
      "RangeIndex: 4990 entries, 0 to 4989\n",
      "Data columns (total 8 columns):\n",
      " #   Column       Non-Null Count  Dtype  \n",
      "---  ------       --------------  -----  \n",
      " 0   price EUR    4990 non-null   int64  \n",
      " 1   type         4990 non-null   object \n",
      " 2   size m²      4990 non-null   float64\n",
      " 3   cells        4990 non-null   float64\n",
      " 4   rooms        4990 non-null   float64\n",
      " 5   city         4990 non-null   object \n",
      " 6   postal_code  4990 non-null   object \n",
      " 7   price/m²     4990 non-null   float64\n",
      "dtypes: float64(4), int64(1), object(3)\n",
      "memory usage: 312.0+ KB\n"
     ]
    }
   ],
   "source": [
    "df.info()"
   ]
  },
  {
   "cell_type": "code",
   "execution_count": 3520,
   "id": "5affe4f7",
   "metadata": {
    "scrolled": false
   },
   "outputs": [
    {
     "data": {
      "text/html": [
       "<div>\n",
       "<style scoped>\n",
       "    .dataframe tbody tr th:only-of-type {\n",
       "        vertical-align: middle;\n",
       "    }\n",
       "\n",
       "    .dataframe tbody tr th {\n",
       "        vertical-align: top;\n",
       "    }\n",
       "\n",
       "    .dataframe thead th {\n",
       "        text-align: right;\n",
       "    }\n",
       "</style>\n",
       "<table border=\"1\" class=\"dataframe\">\n",
       "  <thead>\n",
       "    <tr style=\"text-align: right;\">\n",
       "      <th></th>\n",
       "      <th>feature</th>\n",
       "      <th>percent_missing</th>\n",
       "      <th>data_type</th>\n",
       "    </tr>\n",
       "  </thead>\n",
       "  <tbody>\n",
       "    <tr>\n",
       "      <th>0</th>\n",
       "      <td>price EUR</td>\n",
       "      <td>0.0</td>\n",
       "      <td>int64</td>\n",
       "    </tr>\n",
       "    <tr>\n",
       "      <th>1</th>\n",
       "      <td>type</td>\n",
       "      <td>0.0</td>\n",
       "      <td>object</td>\n",
       "    </tr>\n",
       "    <tr>\n",
       "      <th>2</th>\n",
       "      <td>size m²</td>\n",
       "      <td>0.0</td>\n",
       "      <td>float64</td>\n",
       "    </tr>\n",
       "    <tr>\n",
       "      <th>3</th>\n",
       "      <td>cells</td>\n",
       "      <td>0.0</td>\n",
       "      <td>float64</td>\n",
       "    </tr>\n",
       "    <tr>\n",
       "      <th>4</th>\n",
       "      <td>rooms</td>\n",
       "      <td>0.0</td>\n",
       "      <td>float64</td>\n",
       "    </tr>\n",
       "    <tr>\n",
       "      <th>5</th>\n",
       "      <td>city</td>\n",
       "      <td>0.0</td>\n",
       "      <td>object</td>\n",
       "    </tr>\n",
       "    <tr>\n",
       "      <th>6</th>\n",
       "      <td>postal_code</td>\n",
       "      <td>0.0</td>\n",
       "      <td>object</td>\n",
       "    </tr>\n",
       "    <tr>\n",
       "      <th>7</th>\n",
       "      <td>price/m²</td>\n",
       "      <td>0.0</td>\n",
       "      <td>float64</td>\n",
       "    </tr>\n",
       "  </tbody>\n",
       "</table>\n",
       "</div>"
      ],
      "text/plain": [
       "       feature  percent_missing data_type\n",
       "0    price EUR              0.0     int64\n",
       "1         type              0.0    object\n",
       "2      size m²              0.0   float64\n",
       "3        cells              0.0   float64\n",
       "4        rooms              0.0   float64\n",
       "5         city              0.0    object\n",
       "6  postal_code              0.0    object\n",
       "7     price/m²              0.0   float64"
      ]
     },
     "execution_count": 3520,
     "metadata": {},
     "output_type": "execute_result"
    }
   ],
   "source": [
    "# Calculating the percentage of missing values per feature column with the data type of each column\n",
    "\n",
    "percent_missing = df.isnull().mean()\n",
    "missing_value_df = pd.DataFrame(percent_missing).reset_index() # convert to DataFrame\n",
    "missing_value_df = missing_value_df.rename(columns = {\"index\" : \"feature\", 0 : \"percent_missing\"}) # rename columns\n",
    "missing_value_df = missing_value_df.sort_values(by = ['percent_missing'], ascending = False) # sort the values\n",
    "data_types_df = pd.DataFrame(df.dtypes).reset_index().rename(columns = {\"index\" : \"feature\", 0 : \"data_type\"}) # rename columns\n",
    "missing_value_df = missing_value_df.merge(data_types_df, on = \"feature\") # join the dataframe with datatype\n",
    "missing_value_df.percent_missing = round(missing_value_df.percent_missing*100, 2) # format the percent_missing\n",
    "\n",
    "missing_value_df\n",
    "# rooms column contains the highest percentage of missing values of 19.88%"
   ]
  },
  {
   "cell_type": "code",
   "execution_count": 3521,
   "id": "ebe948dd",
   "metadata": {
    "scrolled": true
   },
   "outputs": [],
   "source": [
    "# Changing some columns types to be able to manipulate the data\n",
    "df[\"size m²\"] = pd.to_numeric(df[\"size m²\"])"
   ]
  },
  {
   "cell_type": "code",
   "execution_count": 3522,
   "id": "efa95e9b",
   "metadata": {},
   "outputs": [
    {
     "data": {
      "text/html": [
       "<div>\n",
       "<style scoped>\n",
       "    .dataframe tbody tr th:only-of-type {\n",
       "        vertical-align: middle;\n",
       "    }\n",
       "\n",
       "    .dataframe tbody tr th {\n",
       "        vertical-align: top;\n",
       "    }\n",
       "\n",
       "    .dataframe thead th {\n",
       "        text-align: right;\n",
       "    }\n",
       "</style>\n",
       "<table border=\"1\" class=\"dataframe\">\n",
       "  <thead>\n",
       "    <tr style=\"text-align: right;\">\n",
       "      <th></th>\n",
       "      <th>categorical_feature</th>\n",
       "      <th>number_categories</th>\n",
       "    </tr>\n",
       "  </thead>\n",
       "  <tbody>\n",
       "    <tr>\n",
       "      <th>1</th>\n",
       "      <td>city</td>\n",
       "      <td>570</td>\n",
       "    </tr>\n",
       "    <tr>\n",
       "      <th>2</th>\n",
       "      <td>postal_code</td>\n",
       "      <td>450</td>\n",
       "    </tr>\n",
       "    <tr>\n",
       "      <th>0</th>\n",
       "      <td>type</td>\n",
       "      <td>3</td>\n",
       "    </tr>\n",
       "  </tbody>\n",
       "</table>\n",
       "</div>"
      ],
      "text/plain": [
       "  categorical_feature  number_categories\n",
       "1                city                570\n",
       "2         postal_code                450\n",
       "0                type                  3"
      ]
     },
     "execution_count": 3522,
     "metadata": {},
     "output_type": "execute_result"
    }
   ],
   "source": [
    "# Discovering the count of different values within each categorical column \n",
    "\n",
    "categorical_columns = list(df.select_dtypes(['object']).columns)\n",
    "cat_df = []\n",
    "\n",
    "for c in categorical_columns:\n",
    "    cat_df.append({\"categorical_feature\": c, \"number_categories\": len(df[c].value_counts(dropna = False))})\n",
    "pd.DataFrame(cat_df).sort_values(by = \"number_categories\", ascending = False)"
   ]
  },
  {
   "cell_type": "code",
   "execution_count": 3523,
   "id": "86c2db0f",
   "metadata": {},
   "outputs": [],
   "source": [
    "# Filling null values of rooms column with \"0\"\n",
    "df[\"rooms\"] = df[\"rooms\"].fillna(0)\n",
    "\n",
    "# Filling null values of cells column with \"1\"\n",
    "df[\"cells\"] = df[\"cells\"].fillna(1)\n",
    "\n",
    "# Filling null values of size column with the average size of apartments in Ile-de-France\n",
    "df[\"size m²\"] = df[\"size m²\"].fillna(df[\"size m²\"].mean())"
   ]
  },
  {
   "cell_type": "code",
   "execution_count": 3524,
   "id": "9931e45c",
   "metadata": {},
   "outputs": [
    {
     "data": {
      "text/html": [
       "<div>\n",
       "<style scoped>\n",
       "    .dataframe tbody tr th:only-of-type {\n",
       "        vertical-align: middle;\n",
       "    }\n",
       "\n",
       "    .dataframe tbody tr th {\n",
       "        vertical-align: top;\n",
       "    }\n",
       "\n",
       "    .dataframe thead th {\n",
       "        text-align: right;\n",
       "    }\n",
       "</style>\n",
       "<table border=\"1\" class=\"dataframe\">\n",
       "  <thead>\n",
       "    <tr style=\"text-align: right;\">\n",
       "      <th></th>\n",
       "      <th>feature</th>\n",
       "      <th>percent_missing</th>\n",
       "      <th>data_type</th>\n",
       "    </tr>\n",
       "  </thead>\n",
       "  <tbody>\n",
       "    <tr>\n",
       "      <th>0</th>\n",
       "      <td>price EUR</td>\n",
       "      <td>0.0</td>\n",
       "      <td>int64</td>\n",
       "    </tr>\n",
       "    <tr>\n",
       "      <th>1</th>\n",
       "      <td>type</td>\n",
       "      <td>0.0</td>\n",
       "      <td>object</td>\n",
       "    </tr>\n",
       "    <tr>\n",
       "      <th>2</th>\n",
       "      <td>size m²</td>\n",
       "      <td>0.0</td>\n",
       "      <td>float64</td>\n",
       "    </tr>\n",
       "    <tr>\n",
       "      <th>3</th>\n",
       "      <td>cells</td>\n",
       "      <td>0.0</td>\n",
       "      <td>float64</td>\n",
       "    </tr>\n",
       "    <tr>\n",
       "      <th>4</th>\n",
       "      <td>rooms</td>\n",
       "      <td>0.0</td>\n",
       "      <td>float64</td>\n",
       "    </tr>\n",
       "    <tr>\n",
       "      <th>5</th>\n",
       "      <td>city</td>\n",
       "      <td>0.0</td>\n",
       "      <td>object</td>\n",
       "    </tr>\n",
       "    <tr>\n",
       "      <th>6</th>\n",
       "      <td>postal_code</td>\n",
       "      <td>0.0</td>\n",
       "      <td>object</td>\n",
       "    </tr>\n",
       "    <tr>\n",
       "      <th>7</th>\n",
       "      <td>price/m²</td>\n",
       "      <td>0.0</td>\n",
       "      <td>float64</td>\n",
       "    </tr>\n",
       "  </tbody>\n",
       "</table>\n",
       "</div>"
      ],
      "text/plain": [
       "       feature  percent_missing data_type\n",
       "0    price EUR              0.0     int64\n",
       "1         type              0.0    object\n",
       "2      size m²              0.0   float64\n",
       "3        cells              0.0   float64\n",
       "4        rooms              0.0   float64\n",
       "5         city              0.0    object\n",
       "6  postal_code              0.0    object\n",
       "7     price/m²              0.0   float64"
      ]
     },
     "execution_count": 3524,
     "metadata": {},
     "output_type": "execute_result"
    }
   ],
   "source": [
    "# Calculating the percentage of missing values one last time to make sure there are no missing data anymore\n",
    "\n",
    "percent_missing = df.isnull().mean()\n",
    "missing_value_df = pd.DataFrame(percent_missing).reset_index() # convert to DataFrame\n",
    "missing_value_df = missing_value_df.rename(columns = {\"index\" : \"feature\", 0 : \"percent_missing\"}) # rename columns\n",
    "missing_value_df = missing_value_df.sort_values(by = ['percent_missing'], ascending = False) # sort the values\n",
    "data_types_df = pd.DataFrame(df.dtypes).reset_index().rename(columns = {\"index\" : \"feature\", 0 : \"data_type\"}) # rename columns\n",
    "missing_value_df = missing_value_df.merge(data_types_df, on = \"feature\") # join the dataframe with datatype\n",
    "missing_value_df.percent_missing = round(missing_value_df.percent_missing*100, 2) # format the percent_missing\n",
    "\n",
    "missing_value_df\n",
    "# rooms column contains the highest percentage of missing values of 19.88%"
   ]
  },
  {
   "cell_type": "code",
   "execution_count": 3525,
   "id": "a28c7933",
   "metadata": {},
   "outputs": [
    {
     "data": {
      "text/html": [
       "<div>\n",
       "<style scoped>\n",
       "    .dataframe tbody tr th:only-of-type {\n",
       "        vertical-align: middle;\n",
       "    }\n",
       "\n",
       "    .dataframe tbody tr th {\n",
       "        vertical-align: top;\n",
       "    }\n",
       "\n",
       "    .dataframe thead th {\n",
       "        text-align: right;\n",
       "    }\n",
       "</style>\n",
       "<table border=\"1\" class=\"dataframe\">\n",
       "  <thead>\n",
       "    <tr style=\"text-align: right;\">\n",
       "      <th></th>\n",
       "      <th>price EUR</th>\n",
       "      <th>size m²</th>\n",
       "      <th>cells</th>\n",
       "      <th>rooms</th>\n",
       "      <th>price/m²</th>\n",
       "    </tr>\n",
       "  </thead>\n",
       "  <tbody>\n",
       "    <tr>\n",
       "      <th>count</th>\n",
       "      <td>4990.0</td>\n",
       "      <td>4990.0</td>\n",
       "      <td>4990.0</td>\n",
       "      <td>4990.0</td>\n",
       "      <td>4990.0</td>\n",
       "    </tr>\n",
       "    <tr>\n",
       "      <th>mean</th>\n",
       "      <td>464363.0</td>\n",
       "      <td>78.0</td>\n",
       "      <td>3.0</td>\n",
       "      <td>2.0</td>\n",
       "      <td>6664.0</td>\n",
       "    </tr>\n",
       "    <tr>\n",
       "      <th>std</th>\n",
       "      <td>561668.0</td>\n",
       "      <td>52.0</td>\n",
       "      <td>2.0</td>\n",
       "      <td>1.0</td>\n",
       "      <td>19060.0</td>\n",
       "    </tr>\n",
       "    <tr>\n",
       "      <th>min</th>\n",
       "      <td>49000.0</td>\n",
       "      <td>8.0</td>\n",
       "      <td>0.0</td>\n",
       "      <td>0.0</td>\n",
       "      <td>626.0</td>\n",
       "    </tr>\n",
       "    <tr>\n",
       "      <th>25%</th>\n",
       "      <td>240125.0</td>\n",
       "      <td>49.0</td>\n",
       "      <td>2.0</td>\n",
       "      <td>1.0</td>\n",
       "      <td>3792.0</td>\n",
       "    </tr>\n",
       "    <tr>\n",
       "      <th>50%</th>\n",
       "      <td>369900.0</td>\n",
       "      <td>67.0</td>\n",
       "      <td>3.0</td>\n",
       "      <td>2.0</td>\n",
       "      <td>5704.0</td>\n",
       "    </tr>\n",
       "    <tr>\n",
       "      <th>75%</th>\n",
       "      <td>559000.0</td>\n",
       "      <td>90.0</td>\n",
       "      <td>4.0</td>\n",
       "      <td>3.0</td>\n",
       "      <td>8497.0</td>\n",
       "    </tr>\n",
       "    <tr>\n",
       "      <th>max</th>\n",
       "      <td>31998857.0</td>\n",
       "      <td>1214.0</td>\n",
       "      <td>9.0</td>\n",
       "      <td>8.0</td>\n",
       "      <td>1333286.0</td>\n",
       "    </tr>\n",
       "  </tbody>\n",
       "</table>\n",
       "</div>"
      ],
      "text/plain": [
       "        price EUR  size m²   cells   rooms   price/m²\n",
       "count      4990.0   4990.0  4990.0  4990.0     4990.0\n",
       "mean     464363.0     78.0     3.0     2.0     6664.0\n",
       "std      561668.0     52.0     2.0     1.0    19060.0\n",
       "min       49000.0      8.0     0.0     0.0      626.0\n",
       "25%      240125.0     49.0     2.0     1.0     3792.0\n",
       "50%      369900.0     67.0     3.0     2.0     5704.0\n",
       "75%      559000.0     90.0     4.0     3.0     8497.0\n",
       "max    31998857.0   1214.0     9.0     8.0  1333286.0"
      ]
     },
     "execution_count": 3525,
     "metadata": {},
     "output_type": "execute_result"
    }
   ],
   "source": [
    "round(df.describe())"
   ]
  },
  {
   "cell_type": "code",
   "execution_count": 3526,
   "id": "4cce5788",
   "metadata": {},
   "outputs": [
    {
     "data": {
      "text/html": [
       "<div>\n",
       "<style scoped>\n",
       "    .dataframe tbody tr th:only-of-type {\n",
       "        vertical-align: middle;\n",
       "    }\n",
       "\n",
       "    .dataframe tbody tr th {\n",
       "        vertical-align: top;\n",
       "    }\n",
       "\n",
       "    .dataframe thead th {\n",
       "        text-align: right;\n",
       "    }\n",
       "</style>\n",
       "<table border=\"1\" class=\"dataframe\">\n",
       "  <thead>\n",
       "    <tr style=\"text-align: right;\">\n",
       "      <th></th>\n",
       "      <th>price EUR</th>\n",
       "      <th>size m²</th>\n",
       "      <th>cells</th>\n",
       "      <th>rooms</th>\n",
       "      <th>price/m²</th>\n",
       "    </tr>\n",
       "  </thead>\n",
       "  <tbody>\n",
       "    <tr>\n",
       "      <th>price EUR</th>\n",
       "      <td>1.000000</td>\n",
       "      <td>0.321891</td>\n",
       "      <td>0.243911</td>\n",
       "      <td>0.198367</td>\n",
       "      <td>0.836149</td>\n",
       "    </tr>\n",
       "    <tr>\n",
       "      <th>size m²</th>\n",
       "      <td>0.321891</td>\n",
       "      <td>1.000000</td>\n",
       "      <td>0.653169</td>\n",
       "      <td>0.626785</td>\n",
       "      <td>-0.054406</td>\n",
       "    </tr>\n",
       "    <tr>\n",
       "      <th>cells</th>\n",
       "      <td>0.243911</td>\n",
       "      <td>0.653169</td>\n",
       "      <td>1.000000</td>\n",
       "      <td>0.699331</td>\n",
       "      <td>-0.050874</td>\n",
       "    </tr>\n",
       "    <tr>\n",
       "      <th>rooms</th>\n",
       "      <td>0.198367</td>\n",
       "      <td>0.626785</td>\n",
       "      <td>0.699331</td>\n",
       "      <td>1.000000</td>\n",
       "      <td>-0.062159</td>\n",
       "    </tr>\n",
       "    <tr>\n",
       "      <th>price/m²</th>\n",
       "      <td>0.836149</td>\n",
       "      <td>-0.054406</td>\n",
       "      <td>-0.050874</td>\n",
       "      <td>-0.062159</td>\n",
       "      <td>1.000000</td>\n",
       "    </tr>\n",
       "  </tbody>\n",
       "</table>\n",
       "</div>"
      ],
      "text/plain": [
       "           price EUR   size m²     cells     rooms  price/m²\n",
       "price EUR   1.000000  0.321891  0.243911  0.198367  0.836149\n",
       "size m²     0.321891  1.000000  0.653169  0.626785 -0.054406\n",
       "cells       0.243911  0.653169  1.000000  0.699331 -0.050874\n",
       "rooms       0.198367  0.626785  0.699331  1.000000 -0.062159\n",
       "price/m²    0.836149 -0.054406 -0.050874 -0.062159  1.000000"
      ]
     },
     "execution_count": 3526,
     "metadata": {},
     "output_type": "execute_result"
    }
   ],
   "source": [
    "# Identifying correlations in data\n",
    "\n",
    "corr = df.corr()\n",
    "corr\n",
    "\n",
    "# The size correlates most with the price, however the correlation is not so strong"
   ]
  },
  {
   "cell_type": "code",
   "execution_count": 3527,
   "id": "955dbf03",
   "metadata": {},
   "outputs": [
    {
     "data": {
      "text/html": [
       "<div>\n",
       "<style scoped>\n",
       "    .dataframe tbody tr th:only-of-type {\n",
       "        vertical-align: middle;\n",
       "    }\n",
       "\n",
       "    .dataframe tbody tr th {\n",
       "        vertical-align: top;\n",
       "    }\n",
       "\n",
       "    .dataframe thead th {\n",
       "        text-align: right;\n",
       "    }\n",
       "</style>\n",
       "<table border=\"1\" class=\"dataframe\">\n",
       "  <thead>\n",
       "    <tr style=\"text-align: right;\">\n",
       "      <th></th>\n",
       "      <th>corr_feature</th>\n",
       "      <th>drop_feature</th>\n",
       "      <th>corrrelation_values</th>\n",
       "    </tr>\n",
       "  </thead>\n",
       "  <tbody>\n",
       "    <tr>\n",
       "      <th>1</th>\n",
       "      <td>price EUR</td>\n",
       "      <td>price/m²</td>\n",
       "      <td>0.84</td>\n",
       "    </tr>\n",
       "    <tr>\n",
       "      <th>4</th>\n",
       "      <td>cells</td>\n",
       "      <td>rooms</td>\n",
       "      <td>0.70</td>\n",
       "    </tr>\n",
       "    <tr>\n",
       "      <th>2</th>\n",
       "      <td>size m²</td>\n",
       "      <td>cells</td>\n",
       "      <td>0.65</td>\n",
       "    </tr>\n",
       "    <tr>\n",
       "      <th>3</th>\n",
       "      <td>size m²</td>\n",
       "      <td>rooms</td>\n",
       "      <td>0.63</td>\n",
       "    </tr>\n",
       "    <tr>\n",
       "      <th>0</th>\n",
       "      <td>price EUR</td>\n",
       "      <td>size m²</td>\n",
       "      <td>0.32</td>\n",
       "    </tr>\n",
       "  </tbody>\n",
       "</table>\n",
       "</div>"
      ],
      "text/plain": [
       "  corr_feature drop_feature  corrrelation_values\n",
       "1    price EUR     price/m²                 0.84\n",
       "4        cells        rooms                 0.70\n",
       "2      size m²        cells                 0.65\n",
       "3      size m²        rooms                 0.63\n",
       "0    price EUR      size m²                 0.32"
      ]
     },
     "execution_count": 3527,
     "metadata": {},
     "output_type": "execute_result"
    }
   ],
   "source": [
    "# Identifying patterns to look for correlations between features\n",
    "\n",
    "correlation_threshold = 0.3\n",
    "\n",
    "corr_matrix = df.corr().abs() # calculate the correlation matrix with \n",
    "high_corr_var = np.where(corr_matrix >= correlation_threshold) # identify variables that have correlations above defined threshold\n",
    "high_corr_var = [(corr_matrix.index[x], corr_matrix.columns[y], round(corr_matrix.iloc[x, y], 2))\n",
    "                     for x, y in zip(*high_corr_var) if x != y and x < y] # identify pairs of highly correlated variables\n",
    "\n",
    "if high_corr_var != []:\n",
    "    high_corr_var_df = pd.DataFrame(high_corr_var).rename(columns = {0: 'corr_feature',\n",
    "                                                                 1: 'drop_feature',\n",
    "                                                                 2: 'corrrelation_values'})\n",
    "    high_corr_var_df = high_corr_var_df.sort_values(by = 'corrrelation_values', ascending = False)\n",
    "else:\n",
    "    high_corr_var_df = print(\"there are no pairs of correlations with that threshold\")\n",
    "\n",
    "high_corr_var_df"
   ]
  },
  {
   "cell_type": "code",
   "execution_count": 3528,
   "id": "6d8d690a",
   "metadata": {
    "scrolled": true
   },
   "outputs": [
    {
     "name": "stdout",
     "output_type": "stream",
     "text": [
      "number of low variance features: 0\n",
      "low variance features: []\n"
     ]
    },
    {
     "name": "stderr",
     "output_type": "stream",
     "text": [
      "C:\\Users\\assaa\\AppData\\Local\\Temp\\ipykernel_30980\\1144617806.py:2: FutureWarning: Dropping of nuisance columns in DataFrame reductions (with 'numeric_only=None') is deprecated; in a future version this will raise TypeError.  Select only valid columns before calling the reduction.\n",
      "  std_df = pd.DataFrame(df.std()).rename(columns = {0: 'standard_deviation'})\n"
     ]
    },
    {
     "data": {
      "text/plain": [
       "[]"
      ]
     },
     "execution_count": 3528,
     "metadata": {},
     "output_type": "execute_result"
    }
   ],
   "source": [
    "# Identifying features with low variance\n",
    "std_df = pd.DataFrame(df.std()).rename(columns = {0: 'standard_deviation'})\n",
    "\n",
    "low_var_features = list(std_df[std_df['standard_deviation'] < 0.1].index)\n",
    "\n",
    "print(\"number of low variance features:\", len(low_var_features))\n",
    "print(\"low variance features:\", low_var_features)\n",
    "\n",
    "low_var_features\n",
    "\n",
    "# Below the threshold of 10%, there are no low-variance features in the data"
   ]
  },
  {
   "cell_type": "code",
   "execution_count": 3529,
   "id": "99660183",
   "metadata": {},
   "outputs": [
    {
     "name": "stdout",
     "output_type": "stream",
     "text": [
      "Average count of real estate ads per city is: 8.8 ads\n"
     ]
    }
   ],
   "source": [
    "# Checking the average count of real estate ads scraped per city\n",
    "\n",
    "print(\"Average count of real estate ads per city is:\", round(df.groupby('city')['city'].count().mean(),1), \"ads\")"
   ]
  },
  {
   "cell_type": "code",
   "execution_count": 3530,
   "id": "92ee0830",
   "metadata": {
    "scrolled": true
   },
   "outputs": [
    {
     "data": {
      "text/plain": [
       "570"
      ]
     },
     "execution_count": 3530,
     "metadata": {},
     "output_type": "execute_result"
    }
   ],
   "source": [
    "# Checking the number of cities scraped\n",
    "\n",
    "df[\"city\"].nunique()"
   ]
  },
  {
   "cell_type": "code",
   "execution_count": 3531,
   "id": "49297abe",
   "metadata": {
    "scrolled": false
   },
   "outputs": [
    {
     "data": {
      "text/plain": [
       "Paris                  19.7\n",
       "IvrysurSeine            2.2\n",
       "AsnièressurSeine        1.6\n",
       "BoulogneBillancourt     1.6\n",
       "SaintOuen               1.5\n",
       "IssylesMoulineaux       1.4\n",
       "Versailles              1.4\n",
       "RueilMalmaison          1.3\n",
       "Clamart                 1.2\n",
       "SaintMaurdesFossés      1.2\n",
       "Name: city, dtype: float64"
      ]
     },
     "execution_count": 3531,
     "metadata": {},
     "output_type": "execute_result"
    }
   ],
   "source": [
    "# Checking the percentage representation of top 10 cities in terms of number of properties scraped\n",
    "\n",
    "round(df[\"city\"].value_counts(normalize = True)*100, 1).head(10)"
   ]
  },
  {
   "cell_type": "code",
   "execution_count": 3532,
   "id": "c099d1ac",
   "metadata": {},
   "outputs": [
    {
     "data": {
      "text/html": [
       "<div>\n",
       "<style scoped>\n",
       "    .dataframe tbody tr th:only-of-type {\n",
       "        vertical-align: middle;\n",
       "    }\n",
       "\n",
       "    .dataframe tbody tr th {\n",
       "        vertical-align: top;\n",
       "    }\n",
       "\n",
       "    .dataframe thead th {\n",
       "        text-align: right;\n",
       "    }\n",
       "</style>\n",
       "<table border=\"1\" class=\"dataframe\">\n",
       "  <thead>\n",
       "    <tr style=\"text-align: right;\">\n",
       "      <th></th>\n",
       "      <th>price EUR</th>\n",
       "      <th>type</th>\n",
       "      <th>size m²</th>\n",
       "      <th>cells</th>\n",
       "      <th>rooms</th>\n",
       "      <th>city</th>\n",
       "      <th>postal_code</th>\n",
       "      <th>price/m²</th>\n",
       "    </tr>\n",
       "  </thead>\n",
       "  <tbody>\n",
       "    <tr>\n",
       "      <th>0</th>\n",
       "      <td>548000</td>\n",
       "      <td>Appartement</td>\n",
       "      <td>87.00</td>\n",
       "      <td>4.0</td>\n",
       "      <td>3.0</td>\n",
       "      <td>AsnièressurSeine</td>\n",
       "      <td>92600</td>\n",
       "      <td>6299.0</td>\n",
       "    </tr>\n",
       "    <tr>\n",
       "      <th>1</th>\n",
       "      <td>165000</td>\n",
       "      <td>Appartement</td>\n",
       "      <td>42.09</td>\n",
       "      <td>2.0</td>\n",
       "      <td>1.0</td>\n",
       "      <td>LesPavillonssousBois</td>\n",
       "      <td>93320</td>\n",
       "      <td>3920.0</td>\n",
       "    </tr>\n",
       "    <tr>\n",
       "      <th>2</th>\n",
       "      <td>435000</td>\n",
       "      <td>Appartement</td>\n",
       "      <td>66.00</td>\n",
       "      <td>3.0</td>\n",
       "      <td>2.0</td>\n",
       "      <td>Montreuil</td>\n",
       "      <td>93100</td>\n",
       "      <td>6591.0</td>\n",
       "    </tr>\n",
       "    <tr>\n",
       "      <th>3</th>\n",
       "      <td>199000</td>\n",
       "      <td>Appartement</td>\n",
       "      <td>68.48</td>\n",
       "      <td>3.0</td>\n",
       "      <td>2.0</td>\n",
       "      <td>RosnysousBois</td>\n",
       "      <td>93110</td>\n",
       "      <td>2906.0</td>\n",
       "    </tr>\n",
       "    <tr>\n",
       "      <th>4</th>\n",
       "      <td>175000</td>\n",
       "      <td>Appartement</td>\n",
       "      <td>93.00</td>\n",
       "      <td>5.0</td>\n",
       "      <td>4.0</td>\n",
       "      <td>Aubergenville</td>\n",
       "      <td>78410</td>\n",
       "      <td>1882.0</td>\n",
       "    </tr>\n",
       "    <tr>\n",
       "      <th>...</th>\n",
       "      <td>...</td>\n",
       "      <td>...</td>\n",
       "      <td>...</td>\n",
       "      <td>...</td>\n",
       "      <td>...</td>\n",
       "      <td>...</td>\n",
       "      <td>...</td>\n",
       "      <td>...</td>\n",
       "    </tr>\n",
       "    <tr>\n",
       "      <th>4985</th>\n",
       "      <td>140000</td>\n",
       "      <td>Appartement</td>\n",
       "      <td>10.32</td>\n",
       "      <td>1.0</td>\n",
       "      <td>0.0</td>\n",
       "      <td>Paris</td>\n",
       "      <td>75018</td>\n",
       "      <td>13566.0</td>\n",
       "    </tr>\n",
       "    <tr>\n",
       "      <th>4986</th>\n",
       "      <td>496000</td>\n",
       "      <td>Appartement</td>\n",
       "      <td>42.00</td>\n",
       "      <td>2.0</td>\n",
       "      <td>1.0</td>\n",
       "      <td>Paris</td>\n",
       "      <td>75011</td>\n",
       "      <td>11810.0</td>\n",
       "    </tr>\n",
       "    <tr>\n",
       "      <th>4987</th>\n",
       "      <td>318000</td>\n",
       "      <td>Appartement</td>\n",
       "      <td>32.92</td>\n",
       "      <td>2.0</td>\n",
       "      <td>1.0</td>\n",
       "      <td>Paris</td>\n",
       "      <td>75012</td>\n",
       "      <td>9660.0</td>\n",
       "    </tr>\n",
       "    <tr>\n",
       "      <th>4988</th>\n",
       "      <td>614000</td>\n",
       "      <td>Appartement</td>\n",
       "      <td>68.00</td>\n",
       "      <td>4.0</td>\n",
       "      <td>3.0</td>\n",
       "      <td>Paris</td>\n",
       "      <td>75012</td>\n",
       "      <td>9029.0</td>\n",
       "    </tr>\n",
       "    <tr>\n",
       "      <th>4989</th>\n",
       "      <td>565000</td>\n",
       "      <td>Appartement</td>\n",
       "      <td>68.00</td>\n",
       "      <td>3.0</td>\n",
       "      <td>2.0</td>\n",
       "      <td>Paris</td>\n",
       "      <td>75020</td>\n",
       "      <td>8309.0</td>\n",
       "    </tr>\n",
       "  </tbody>\n",
       "</table>\n",
       "<p>4990 rows × 8 columns</p>\n",
       "</div>"
      ],
      "text/plain": [
       "      price EUR         type  size m²  cells  rooms                  city  \\\n",
       "0        548000  Appartement    87.00    4.0    3.0      AsnièressurSeine   \n",
       "1        165000  Appartement    42.09    2.0    1.0  LesPavillonssousBois   \n",
       "2        435000  Appartement    66.00    3.0    2.0             Montreuil   \n",
       "3        199000  Appartement    68.48    3.0    2.0         RosnysousBois   \n",
       "4        175000  Appartement    93.00    5.0    4.0         Aubergenville   \n",
       "...         ...          ...      ...    ...    ...                   ...   \n",
       "4985     140000  Appartement    10.32    1.0    0.0                 Paris   \n",
       "4986     496000  Appartement    42.00    2.0    1.0                 Paris   \n",
       "4987     318000  Appartement    32.92    2.0    1.0                 Paris   \n",
       "4988     614000  Appartement    68.00    4.0    3.0                 Paris   \n",
       "4989     565000  Appartement    68.00    3.0    2.0                 Paris   \n",
       "\n",
       "     postal_code  price/m²  \n",
       "0          92600    6299.0  \n",
       "1          93320    3920.0  \n",
       "2          93100    6591.0  \n",
       "3          93110    2906.0  \n",
       "4          78410    1882.0  \n",
       "...          ...       ...  \n",
       "4985       75018   13566.0  \n",
       "4986       75011   11810.0  \n",
       "4987       75012    9660.0  \n",
       "4988       75012    9029.0  \n",
       "4989       75020    8309.0  \n",
       "\n",
       "[4990 rows x 8 columns]"
      ]
     },
     "execution_count": 3532,
     "metadata": {},
     "output_type": "execute_result"
    }
   ],
   "source": [
    "df"
   ]
  },
  {
   "cell_type": "markdown",
   "id": "13b6ffb6",
   "metadata": {},
   "source": [
    "<b>FEATURE ENGINEERING</b>"
   ]
  },
  {
   "cell_type": "code",
   "execution_count": 3788,
   "id": "c6851fc3",
   "metadata": {},
   "outputs": [],
   "source": [
    "# Creating a copy dataframe of df to avoid losing any progress\n",
    "df_eng = df.copy()"
   ]
  },
  {
   "cell_type": "code",
   "execution_count": 3789,
   "id": "f4d551f2",
   "metadata": {},
   "outputs": [
    {
     "data": {
      "text/plain": [
       "3.0    1484\n",
       "4.0    1050\n",
       "2.0    1026\n",
       "5.0     508\n",
       "1.0     395\n",
       "6.0     255\n",
       "7.0     159\n",
       "8.0      72\n",
       "9.0      22\n",
       "0.0      19\n",
       "Name: cells, dtype: int64"
      ]
     },
     "execution_count": 3789,
     "metadata": {},
     "output_type": "execute_result"
    }
   ],
   "source": [
    "# Checking count of cell values\n",
    "\n",
    "df_eng[\"cells\"].value_counts()"
   ]
  },
  {
   "cell_type": "code",
   "execution_count": 3790,
   "id": "9cb37e9c",
   "metadata": {},
   "outputs": [
    {
     "data": {
      "text/plain": [
       "3.0    1484\n",
       "4.0    1050\n",
       "2.0    1026\n",
       "5.0     508\n",
       "1.0     414\n",
       "6.0     255\n",
       "7.0     159\n",
       "8.0      72\n",
       "9.0      22\n",
       "Name: cells, dtype: int64"
      ]
     },
     "execution_count": 3790,
     "metadata": {},
     "output_type": "execute_result"
    }
   ],
   "source": [
    "# Replacing 0 cell with 1 cell\n",
    "\n",
    "df_eng[\"cells\"] = df_eng[\"cells\"].replace(0.0, 1.0)\n",
    "\n",
    "df_eng[\"cells\"].value_counts()"
   ]
  },
  {
   "cell_type": "code",
   "execution_count": 3791,
   "id": "382c5a7c",
   "metadata": {},
   "outputs": [],
   "source": [
    "# Creating a price per sqm column\n",
    "\n",
    "df_eng[\"price/m²\"] = round(df_eng[\"price EUR\"] / df_eng[\"size m²\"])"
   ]
  },
  {
   "cell_type": "code",
   "execution_count": 3792,
   "id": "32e6ab08",
   "metadata": {},
   "outputs": [
    {
     "data": {
      "text/html": [
       "<div>\n",
       "<style scoped>\n",
       "    .dataframe tbody tr th:only-of-type {\n",
       "        vertical-align: middle;\n",
       "    }\n",
       "\n",
       "    .dataframe tbody tr th {\n",
       "        vertical-align: top;\n",
       "    }\n",
       "\n",
       "    .dataframe thead th {\n",
       "        text-align: right;\n",
       "    }\n",
       "</style>\n",
       "<table border=\"1\" class=\"dataframe\">\n",
       "  <thead>\n",
       "    <tr style=\"text-align: right;\">\n",
       "      <th></th>\n",
       "      <th>type</th>\n",
       "      <th>cells</th>\n",
       "      <th>rooms</th>\n",
       "      <th>city</th>\n",
       "      <th>postal_code</th>\n",
       "      <th>price/m²</th>\n",
       "    </tr>\n",
       "  </thead>\n",
       "  <tbody>\n",
       "    <tr>\n",
       "      <th>0</th>\n",
       "      <td>Appartement</td>\n",
       "      <td>4.0</td>\n",
       "      <td>3.0</td>\n",
       "      <td>AsnièressurSeine</td>\n",
       "      <td>92600</td>\n",
       "      <td>6299.0</td>\n",
       "    </tr>\n",
       "    <tr>\n",
       "      <th>1</th>\n",
       "      <td>Appartement</td>\n",
       "      <td>2.0</td>\n",
       "      <td>1.0</td>\n",
       "      <td>LesPavillonssousBois</td>\n",
       "      <td>93320</td>\n",
       "      <td>3920.0</td>\n",
       "    </tr>\n",
       "    <tr>\n",
       "      <th>2</th>\n",
       "      <td>Appartement</td>\n",
       "      <td>3.0</td>\n",
       "      <td>2.0</td>\n",
       "      <td>Montreuil</td>\n",
       "      <td>93100</td>\n",
       "      <td>6591.0</td>\n",
       "    </tr>\n",
       "    <tr>\n",
       "      <th>3</th>\n",
       "      <td>Appartement</td>\n",
       "      <td>3.0</td>\n",
       "      <td>2.0</td>\n",
       "      <td>RosnysousBois</td>\n",
       "      <td>93110</td>\n",
       "      <td>2906.0</td>\n",
       "    </tr>\n",
       "    <tr>\n",
       "      <th>4</th>\n",
       "      <td>Appartement</td>\n",
       "      <td>5.0</td>\n",
       "      <td>4.0</td>\n",
       "      <td>Aubergenville</td>\n",
       "      <td>78410</td>\n",
       "      <td>1882.0</td>\n",
       "    </tr>\n",
       "    <tr>\n",
       "      <th>...</th>\n",
       "      <td>...</td>\n",
       "      <td>...</td>\n",
       "      <td>...</td>\n",
       "      <td>...</td>\n",
       "      <td>...</td>\n",
       "      <td>...</td>\n",
       "    </tr>\n",
       "    <tr>\n",
       "      <th>4985</th>\n",
       "      <td>Appartement</td>\n",
       "      <td>1.0</td>\n",
       "      <td>0.0</td>\n",
       "      <td>Paris</td>\n",
       "      <td>75018</td>\n",
       "      <td>13566.0</td>\n",
       "    </tr>\n",
       "    <tr>\n",
       "      <th>4986</th>\n",
       "      <td>Appartement</td>\n",
       "      <td>2.0</td>\n",
       "      <td>1.0</td>\n",
       "      <td>Paris</td>\n",
       "      <td>75011</td>\n",
       "      <td>11810.0</td>\n",
       "    </tr>\n",
       "    <tr>\n",
       "      <th>4987</th>\n",
       "      <td>Appartement</td>\n",
       "      <td>2.0</td>\n",
       "      <td>1.0</td>\n",
       "      <td>Paris</td>\n",
       "      <td>75012</td>\n",
       "      <td>9660.0</td>\n",
       "    </tr>\n",
       "    <tr>\n",
       "      <th>4988</th>\n",
       "      <td>Appartement</td>\n",
       "      <td>4.0</td>\n",
       "      <td>3.0</td>\n",
       "      <td>Paris</td>\n",
       "      <td>75012</td>\n",
       "      <td>9029.0</td>\n",
       "    </tr>\n",
       "    <tr>\n",
       "      <th>4989</th>\n",
       "      <td>Appartement</td>\n",
       "      <td>3.0</td>\n",
       "      <td>2.0</td>\n",
       "      <td>Paris</td>\n",
       "      <td>75020</td>\n",
       "      <td>8309.0</td>\n",
       "    </tr>\n",
       "  </tbody>\n",
       "</table>\n",
       "<p>4990 rows × 6 columns</p>\n",
       "</div>"
      ],
      "text/plain": [
       "             type  cells  rooms                  city postal_code  price/m²\n",
       "0     Appartement    4.0    3.0      AsnièressurSeine       92600    6299.0\n",
       "1     Appartement    2.0    1.0  LesPavillonssousBois       93320    3920.0\n",
       "2     Appartement    3.0    2.0             Montreuil       93100    6591.0\n",
       "3     Appartement    3.0    2.0         RosnysousBois       93110    2906.0\n",
       "4     Appartement    5.0    4.0         Aubergenville       78410    1882.0\n",
       "...           ...    ...    ...                   ...         ...       ...\n",
       "4985  Appartement    1.0    0.0                 Paris       75018   13566.0\n",
       "4986  Appartement    2.0    1.0                 Paris       75011   11810.0\n",
       "4987  Appartement    2.0    1.0                 Paris       75012    9660.0\n",
       "4988  Appartement    4.0    3.0                 Paris       75012    9029.0\n",
       "4989  Appartement    3.0    2.0                 Paris       75020    8309.0\n",
       "\n",
       "[4990 rows x 6 columns]"
      ]
     },
     "execution_count": 3792,
     "metadata": {},
     "output_type": "execute_result"
    }
   ],
   "source": [
    "# Dropping price EUR and size m² columns\n",
    "\n",
    "df_eng = df_eng.drop(columns = [\"price EUR\", \"size m²\"])\n",
    "df_eng"
   ]
  },
  {
   "cell_type": "code",
   "execution_count": 3793,
   "id": "93b3d6c2",
   "metadata": {
    "scrolled": true
   },
   "outputs": [
    {
     "data": {
      "text/plain": [
       "450"
      ]
     },
     "execution_count": 3793,
     "metadata": {},
     "output_type": "execute_result"
    }
   ],
   "source": [
    "# Counting unique values of postal codes\n",
    "df_eng[\"postal_code\"].nunique()"
   ]
  },
  {
   "cell_type": "code",
   "execution_count": 3794,
   "id": "cb86aefc",
   "metadata": {
    "scrolled": false
   },
   "outputs": [
    {
     "data": {
      "text/html": [
       "<div>\n",
       "<style scoped>\n",
       "    .dataframe tbody tr th:only-of-type {\n",
       "        vertical-align: middle;\n",
       "    }\n",
       "\n",
       "    .dataframe tbody tr th {\n",
       "        vertical-align: top;\n",
       "    }\n",
       "\n",
       "    .dataframe thead th {\n",
       "        text-align: right;\n",
       "    }\n",
       "</style>\n",
       "<table border=\"1\" class=\"dataframe\">\n",
       "  <thead>\n",
       "    <tr style=\"text-align: right;\">\n",
       "      <th></th>\n",
       "      <th>type</th>\n",
       "      <th>cells</th>\n",
       "      <th>rooms</th>\n",
       "      <th>city</th>\n",
       "      <th>postal_code</th>\n",
       "      <th>price/m²</th>\n",
       "      <th>district_code</th>\n",
       "    </tr>\n",
       "  </thead>\n",
       "  <tbody>\n",
       "    <tr>\n",
       "      <th>0</th>\n",
       "      <td>Appartement</td>\n",
       "      <td>4.0</td>\n",
       "      <td>3.0</td>\n",
       "      <td>AsnièressurSeine</td>\n",
       "      <td>92600</td>\n",
       "      <td>6299.0</td>\n",
       "      <td>92</td>\n",
       "    </tr>\n",
       "    <tr>\n",
       "      <th>1</th>\n",
       "      <td>Appartement</td>\n",
       "      <td>2.0</td>\n",
       "      <td>1.0</td>\n",
       "      <td>LesPavillonssousBois</td>\n",
       "      <td>93320</td>\n",
       "      <td>3920.0</td>\n",
       "      <td>93</td>\n",
       "    </tr>\n",
       "    <tr>\n",
       "      <th>2</th>\n",
       "      <td>Appartement</td>\n",
       "      <td>3.0</td>\n",
       "      <td>2.0</td>\n",
       "      <td>Montreuil</td>\n",
       "      <td>93100</td>\n",
       "      <td>6591.0</td>\n",
       "      <td>93</td>\n",
       "    </tr>\n",
       "    <tr>\n",
       "      <th>3</th>\n",
       "      <td>Appartement</td>\n",
       "      <td>3.0</td>\n",
       "      <td>2.0</td>\n",
       "      <td>RosnysousBois</td>\n",
       "      <td>93110</td>\n",
       "      <td>2906.0</td>\n",
       "      <td>93</td>\n",
       "    </tr>\n",
       "    <tr>\n",
       "      <th>4</th>\n",
       "      <td>Appartement</td>\n",
       "      <td>5.0</td>\n",
       "      <td>4.0</td>\n",
       "      <td>Aubergenville</td>\n",
       "      <td>78410</td>\n",
       "      <td>1882.0</td>\n",
       "      <td>78</td>\n",
       "    </tr>\n",
       "    <tr>\n",
       "      <th>5</th>\n",
       "      <td>Appartement</td>\n",
       "      <td>2.0</td>\n",
       "      <td>1.0</td>\n",
       "      <td>Paris</td>\n",
       "      <td>75018</td>\n",
       "      <td>11170.0</td>\n",
       "      <td>75</td>\n",
       "    </tr>\n",
       "    <tr>\n",
       "      <th>6</th>\n",
       "      <td>Appartement</td>\n",
       "      <td>7.0</td>\n",
       "      <td>4.0</td>\n",
       "      <td>NeuillysurSeine</td>\n",
       "      <td>92200</td>\n",
       "      <td>12025.0</td>\n",
       "      <td>92</td>\n",
       "    </tr>\n",
       "    <tr>\n",
       "      <th>7</th>\n",
       "      <td>Appartement</td>\n",
       "      <td>3.0</td>\n",
       "      <td>2.0</td>\n",
       "      <td>Paris</td>\n",
       "      <td>75013</td>\n",
       "      <td>10528.0</td>\n",
       "      <td>75</td>\n",
       "    </tr>\n",
       "    <tr>\n",
       "      <th>8</th>\n",
       "      <td>Appartement</td>\n",
       "      <td>1.0</td>\n",
       "      <td>0.0</td>\n",
       "      <td>Courbevoie</td>\n",
       "      <td>92400</td>\n",
       "      <td>7933.0</td>\n",
       "      <td>92</td>\n",
       "    </tr>\n",
       "    <tr>\n",
       "      <th>9</th>\n",
       "      <td>Appartement</td>\n",
       "      <td>2.0</td>\n",
       "      <td>1.0</td>\n",
       "      <td>Paris</td>\n",
       "      <td>75014</td>\n",
       "      <td>10224.0</td>\n",
       "      <td>75</td>\n",
       "    </tr>\n",
       "  </tbody>\n",
       "</table>\n",
       "</div>"
      ],
      "text/plain": [
       "          type  cells  rooms                  city postal_code  price/m²  \\\n",
       "0  Appartement    4.0    3.0      AsnièressurSeine       92600    6299.0   \n",
       "1  Appartement    2.0    1.0  LesPavillonssousBois       93320    3920.0   \n",
       "2  Appartement    3.0    2.0             Montreuil       93100    6591.0   \n",
       "3  Appartement    3.0    2.0         RosnysousBois       93110    2906.0   \n",
       "4  Appartement    5.0    4.0         Aubergenville       78410    1882.0   \n",
       "5  Appartement    2.0    1.0                 Paris       75018   11170.0   \n",
       "6  Appartement    7.0    4.0       NeuillysurSeine       92200   12025.0   \n",
       "7  Appartement    3.0    2.0                 Paris       75013   10528.0   \n",
       "8  Appartement    1.0    0.0            Courbevoie       92400    7933.0   \n",
       "9  Appartement    2.0    1.0                 Paris       75014   10224.0   \n",
       "\n",
       "  district_code  \n",
       "0            92  \n",
       "1            93  \n",
       "2            93  \n",
       "3            93  \n",
       "4            78  \n",
       "5            75  \n",
       "6            92  \n",
       "7            75  \n",
       "8            92  \n",
       "9            75  "
      ]
     },
     "execution_count": 3794,
     "metadata": {},
     "output_type": "execute_result"
    }
   ],
   "source": [
    "# Creating a district column to decrease the number of postal codes\n",
    "df_eng[\"district_code\"] = df_eng[\"postal_code\"].str[:2]\n",
    "df_eng[\"district_code\"] = df_eng[\"district_code\"].replace(\"\", None)\n",
    "df_eng[\"district_code\"] = df_eng[\"district_code\"].str[:2]\n",
    "df_eng.head(10)"
   ]
  },
  {
   "cell_type": "code",
   "execution_count": 3795,
   "id": "e8bceaf6",
   "metadata": {
    "scrolled": true
   },
   "outputs": [
    {
     "data": {
      "text/plain": [
       "75    986\n",
       "92    844\n",
       "78    743\n",
       "94    650\n",
       "93    547\n",
       "77    474\n",
       "95    377\n",
       "91    348\n",
       "Name: district_code, dtype: int64"
      ]
     },
     "execution_count": 3795,
     "metadata": {},
     "output_type": "execute_result"
    }
   ],
   "source": [
    "df_eng[\"district_code\"].value_counts()"
   ]
  },
  {
   "cell_type": "code",
   "execution_count": 3796,
   "id": "fbff79ea",
   "metadata": {},
   "outputs": [],
   "source": [
    "# Detecting outliers in price/m²\n",
    "\n",
    "def find_outliers_IQR(df_eng):\n",
    "    q1=df_eng.quantile(0.25)\n",
    "    q3=df_eng.quantile(0.75)\n",
    "    IQR=q3-q1\n",
    "    outliers = df_eng[((df_eng<(q1-1.5*IQR)) | (df_eng>(q3+1.5*IQR)))]\n",
    "    return outliers\n",
    "price_per_sqm_outliers = find_outliers_IQR(df_eng[\"price/m²\"])"
   ]
  },
  {
   "cell_type": "code",
   "execution_count": 3797,
   "id": "34c9602f",
   "metadata": {
    "scrolled": false
   },
   "outputs": [
    {
     "data": {
      "image/png": "[encoded data removed]",
      "text/plain": [
       "<Figure size 1000x500 with 1 Axes>"
      ]
     },
     "metadata": {},
     "output_type": "display_data"
    }
   ],
   "source": [
    "y = df_eng[\"price/m²\"][df_eng[\"price/m²\"] < 50000]\n",
    "\n",
    "plt.figure(figsize=(10,5))\n",
    "\n",
    "sns.set_style(\"whitegrid\")\n",
    "box_plot = sns.boxplot(data=df_eng, x=df_eng[\"district_code\"].sort_values(ascending=True), y=y)\n",
    "\n",
    "plt.show()"
   ]
  },
  {
   "cell_type": "code",
   "execution_count": 3798,
   "id": "1f5c2dc3",
   "metadata": {},
   "outputs": [],
   "source": [
    "# Dropping the city and postal code columns\n",
    "df_eng = df_eng.drop(columns = [\"city\", \"postal_code\"])"
   ]
  },
  {
   "cell_type": "code",
   "execution_count": 3799,
   "id": "3dca6075",
   "metadata": {},
   "outputs": [
    {
     "data": {
      "text/plain": [
       "Appartement         4153\n",
       "Maison               833\n",
       "Appartement neuf       4\n",
       "Name: type, dtype: int64"
      ]
     },
     "execution_count": 3799,
     "metadata": {},
     "output_type": "execute_result"
    }
   ],
   "source": [
    "# Checking unique types of properties\n",
    "df_eng[\"type\"].value_counts()"
   ]
  },
  {
   "cell_type": "code",
   "execution_count": 3800,
   "id": "122e83ba",
   "metadata": {},
   "outputs": [],
   "source": [
    "# Replacing \"Appartement neuf\" with \"Appartement\" because there is no need for this small complexity\n",
    "df_eng[\"type\"] = df_eng[\"type\"].replace(\"Appartement neuf\", \"Appartement\")"
   ]
  },
  {
   "cell_type": "code",
   "execution_count": 3801,
   "id": "9dc0ab9e",
   "metadata": {},
   "outputs": [
    {
     "data": {
      "text/plain": [
       "21"
      ]
     },
     "execution_count": 3801,
     "metadata": {},
     "output_type": "execute_result"
    }
   ],
   "source": [
    "# Checking for null values \n",
    "\n",
    "len(df_eng[\"district_code\"][df_eng[\"district_code\"].isnull()])"
   ]
  },
  {
   "cell_type": "code",
   "execution_count": 3802,
   "id": "476f11b8",
   "metadata": {},
   "outputs": [
    {
     "name": "stdout",
     "output_type": "stream",
     "text": [
      "The dataset is now composed of 4969 rows and 5 columns\n"
     ]
    }
   ],
   "source": [
    "# Dropping null values in district_code column\n",
    "\n",
    "df_eng = df_eng.dropna()\n",
    "\n",
    "# re-checking the shape of the dataset\n",
    "\n",
    "print(\"The dataset is now composed of\", df_eng.shape[0], \"rows and\", df_eng.shape[1], \"columns\")"
   ]
  },
  {
   "cell_type": "code",
   "execution_count": 3803,
   "id": "834beb73",
   "metadata": {
    "scrolled": false
   },
   "outputs": [
    {
     "data": {
      "text/html": [
       "<div>\n",
       "<style scoped>\n",
       "    .dataframe tbody tr th:only-of-type {\n",
       "        vertical-align: middle;\n",
       "    }\n",
       "\n",
       "    .dataframe tbody tr th {\n",
       "        vertical-align: top;\n",
       "    }\n",
       "\n",
       "    .dataframe thead th {\n",
       "        text-align: right;\n",
       "    }\n",
       "</style>\n",
       "<table border=\"1\" class=\"dataframe\">\n",
       "  <thead>\n",
       "    <tr style=\"text-align: right;\">\n",
       "      <th></th>\n",
       "      <th>cells</th>\n",
       "      <th>rooms</th>\n",
       "      <th>price/m²</th>\n",
       "      <th>type_Appartement</th>\n",
       "      <th>type_Maison</th>\n",
       "      <th>district_code_75</th>\n",
       "      <th>district_code_77</th>\n",
       "      <th>district_code_78</th>\n",
       "      <th>district_code_91</th>\n",
       "      <th>district_code_92</th>\n",
       "      <th>district_code_93</th>\n",
       "      <th>district_code_94</th>\n",
       "      <th>district_code_95</th>\n",
       "    </tr>\n",
       "  </thead>\n",
       "  <tbody>\n",
       "    <tr>\n",
       "      <th>0</th>\n",
       "      <td>4.0</td>\n",
       "      <td>3.0</td>\n",
       "      <td>6299.0</td>\n",
       "      <td>1</td>\n",
       "      <td>0</td>\n",
       "      <td>0</td>\n",
       "      <td>0</td>\n",
       "      <td>0</td>\n",
       "      <td>0</td>\n",
       "      <td>1</td>\n",
       "      <td>0</td>\n",
       "      <td>0</td>\n",
       "      <td>0</td>\n",
       "    </tr>\n",
       "    <tr>\n",
       "      <th>1</th>\n",
       "      <td>2.0</td>\n",
       "      <td>1.0</td>\n",
       "      <td>3920.0</td>\n",
       "      <td>1</td>\n",
       "      <td>0</td>\n",
       "      <td>0</td>\n",
       "      <td>0</td>\n",
       "      <td>0</td>\n",
       "      <td>0</td>\n",
       "      <td>0</td>\n",
       "      <td>1</td>\n",
       "      <td>0</td>\n",
       "      <td>0</td>\n",
       "    </tr>\n",
       "    <tr>\n",
       "      <th>2</th>\n",
       "      <td>3.0</td>\n",
       "      <td>2.0</td>\n",
       "      <td>6591.0</td>\n",
       "      <td>1</td>\n",
       "      <td>0</td>\n",
       "      <td>0</td>\n",
       "      <td>0</td>\n",
       "      <td>0</td>\n",
       "      <td>0</td>\n",
       "      <td>0</td>\n",
       "      <td>1</td>\n",
       "      <td>0</td>\n",
       "      <td>0</td>\n",
       "    </tr>\n",
       "    <tr>\n",
       "      <th>3</th>\n",
       "      <td>3.0</td>\n",
       "      <td>2.0</td>\n",
       "      <td>2906.0</td>\n",
       "      <td>1</td>\n",
       "      <td>0</td>\n",
       "      <td>0</td>\n",
       "      <td>0</td>\n",
       "      <td>0</td>\n",
       "      <td>0</td>\n",
       "      <td>0</td>\n",
       "      <td>1</td>\n",
       "      <td>0</td>\n",
       "      <td>0</td>\n",
       "    </tr>\n",
       "    <tr>\n",
       "      <th>4</th>\n",
       "      <td>5.0</td>\n",
       "      <td>4.0</td>\n",
       "      <td>1882.0</td>\n",
       "      <td>1</td>\n",
       "      <td>0</td>\n",
       "      <td>0</td>\n",
       "      <td>0</td>\n",
       "      <td>1</td>\n",
       "      <td>0</td>\n",
       "      <td>0</td>\n",
       "      <td>0</td>\n",
       "      <td>0</td>\n",
       "      <td>0</td>\n",
       "    </tr>\n",
       "    <tr>\n",
       "      <th>...</th>\n",
       "      <td>...</td>\n",
       "      <td>...</td>\n",
       "      <td>...</td>\n",
       "      <td>...</td>\n",
       "      <td>...</td>\n",
       "      <td>...</td>\n",
       "      <td>...</td>\n",
       "      <td>...</td>\n",
       "      <td>...</td>\n",
       "      <td>...</td>\n",
       "      <td>...</td>\n",
       "      <td>...</td>\n",
       "      <td>...</td>\n",
       "    </tr>\n",
       "    <tr>\n",
       "      <th>4985</th>\n",
       "      <td>1.0</td>\n",
       "      <td>0.0</td>\n",
       "      <td>13566.0</td>\n",
       "      <td>1</td>\n",
       "      <td>0</td>\n",
       "      <td>1</td>\n",
       "      <td>0</td>\n",
       "      <td>0</td>\n",
       "      <td>0</td>\n",
       "      <td>0</td>\n",
       "      <td>0</td>\n",
       "      <td>0</td>\n",
       "      <td>0</td>\n",
       "    </tr>\n",
       "    <tr>\n",
       "      <th>4986</th>\n",
       "      <td>2.0</td>\n",
       "      <td>1.0</td>\n",
       "      <td>11810.0</td>\n",
       "      <td>1</td>\n",
       "      <td>0</td>\n",
       "      <td>1</td>\n",
       "      <td>0</td>\n",
       "      <td>0</td>\n",
       "      <td>0</td>\n",
       "      <td>0</td>\n",
       "      <td>0</td>\n",
       "      <td>0</td>\n",
       "      <td>0</td>\n",
       "    </tr>\n",
       "    <tr>\n",
       "      <th>4987</th>\n",
       "      <td>2.0</td>\n",
       "      <td>1.0</td>\n",
       "      <td>9660.0</td>\n",
       "      <td>1</td>\n",
       "      <td>0</td>\n",
       "      <td>1</td>\n",
       "      <td>0</td>\n",
       "      <td>0</td>\n",
       "      <td>0</td>\n",
       "      <td>0</td>\n",
       "      <td>0</td>\n",
       "      <td>0</td>\n",
       "      <td>0</td>\n",
       "    </tr>\n",
       "    <tr>\n",
       "      <th>4988</th>\n",
       "      <td>4.0</td>\n",
       "      <td>3.0</td>\n",
       "      <td>9029.0</td>\n",
       "      <td>1</td>\n",
       "      <td>0</td>\n",
       "      <td>1</td>\n",
       "      <td>0</td>\n",
       "      <td>0</td>\n",
       "      <td>0</td>\n",
       "      <td>0</td>\n",
       "      <td>0</td>\n",
       "      <td>0</td>\n",
       "      <td>0</td>\n",
       "    </tr>\n",
       "    <tr>\n",
       "      <th>4989</th>\n",
       "      <td>3.0</td>\n",
       "      <td>2.0</td>\n",
       "      <td>8309.0</td>\n",
       "      <td>1</td>\n",
       "      <td>0</td>\n",
       "      <td>1</td>\n",
       "      <td>0</td>\n",
       "      <td>0</td>\n",
       "      <td>0</td>\n",
       "      <td>0</td>\n",
       "      <td>0</td>\n",
       "      <td>0</td>\n",
       "      <td>0</td>\n",
       "    </tr>\n",
       "  </tbody>\n",
       "</table>\n",
       "<p>4969 rows × 13 columns</p>\n",
       "</div>"
      ],
      "text/plain": [
       "      cells  rooms  price/m²  type_Appartement  type_Maison  district_code_75  \\\n",
       "0       4.0    3.0    6299.0                 1            0                 0   \n",
       "1       2.0    1.0    3920.0                 1            0                 0   \n",
       "2       3.0    2.0    6591.0                 1            0                 0   \n",
       "3       3.0    2.0    2906.0                 1            0                 0   \n",
       "4       5.0    4.0    1882.0                 1            0                 0   \n",
       "...     ...    ...       ...               ...          ...               ...   \n",
       "4985    1.0    0.0   13566.0                 1            0                 1   \n",
       "4986    2.0    1.0   11810.0                 1            0                 1   \n",
       "4987    2.0    1.0    9660.0                 1            0                 1   \n",
       "4988    4.0    3.0    9029.0                 1            0                 1   \n",
       "4989    3.0    2.0    8309.0                 1            0                 1   \n",
       "\n",
       "      district_code_77  district_code_78  district_code_91  district_code_92  \\\n",
       "0                    0                 0                 0                 1   \n",
       "1                    0                 0                 0                 0   \n",
       "2                    0                 0                 0                 0   \n",
       "3                    0                 0                 0                 0   \n",
       "4                    0                 1                 0                 0   \n",
       "...                ...               ...               ...               ...   \n",
       "4985                 0                 0                 0                 0   \n",
       "4986                 0                 0                 0                 0   \n",
       "4987                 0                 0                 0                 0   \n",
       "4988                 0                 0                 0                 0   \n",
       "4989                 0                 0                 0                 0   \n",
       "\n",
       "      district_code_93  district_code_94  district_code_95  \n",
       "0                    0                 0                 0  \n",
       "1                    1                 0                 0  \n",
       "2                    1                 0                 0  \n",
       "3                    1                 0                 0  \n",
       "4                    0                 0                 0  \n",
       "...                ...               ...               ...  \n",
       "4985                 0                 0                 0  \n",
       "4986                 0                 0                 0  \n",
       "4987                 0                 0                 0  \n",
       "4988                 0                 0                 0  \n",
       "4989                 0                 0                 0  \n",
       "\n",
       "[4969 rows x 13 columns]"
      ]
     },
     "execution_count": 3803,
     "metadata": {},
     "output_type": "execute_result"
    }
   ],
   "source": [
    "# One-hot encoding the categorical variables: type and district_code\n",
    "\n",
    "for c in df_eng[[\"type\", \"district_code\"]]:\n",
    "    dummies = pd.get_dummies(df_eng[c], prefix=c)\n",
    "    df_eng = pd.concat([df_eng, dummies], axis=1)\n",
    "    df_eng.drop(c, axis = 1, inplace = True)\n",
    "df_eng"
   ]
  },
  {
   "cell_type": "markdown",
   "id": "7d898018",
   "metadata": {},
   "source": [
    "<b>MACHINE LEARNING MODEL</b>"
   ]
  },
  {
   "cell_type": "markdown",
   "id": "46ee69c7",
   "metadata": {},
   "source": [
    "GRADIENT BOOSTING REGRESSOR"
   ]
  },
  {
   "cell_type": "code",
   "execution_count": 3852,
   "id": "e74b8f43",
   "metadata": {},
   "outputs": [],
   "source": [
    "from sklearn.ensemble import GradientBoostingRegressor\n",
    "\n",
    "\n",
    "from sklearn.model_selection import learning_curve\n",
    "\n",
    "from sklearn.decomposition import PCA\n",
    "\n",
    "from sklearn.model_selection import train_test_split\n",
    "\n",
    "\n",
    "from sklearn.metrics import r2_score,mean_absolute_error, mean_squared_error\n",
    "from sklearn.preprocessing import MinMaxScaler"
   ]
  },
  {
   "cell_type": "code",
   "execution_count": 3853,
   "id": "aa7ac6d9",
   "metadata": {},
   "outputs": [
    {
     "data": {
      "text/html": [
       "<div>\n",
       "<style scoped>\n",
       "    .dataframe tbody tr th:only-of-type {\n",
       "        vertical-align: middle;\n",
       "    }\n",
       "\n",
       "    .dataframe tbody tr th {\n",
       "        vertical-align: top;\n",
       "    }\n",
       "\n",
       "    .dataframe thead th {\n",
       "        text-align: right;\n",
       "    }\n",
       "</style>\n",
       "<table border=\"1\" class=\"dataframe\">\n",
       "  <thead>\n",
       "    <tr style=\"text-align: right;\">\n",
       "      <th></th>\n",
       "      <th>cells</th>\n",
       "      <th>rooms</th>\n",
       "      <th>price/m²</th>\n",
       "      <th>type_Appartement</th>\n",
       "      <th>type_Maison</th>\n",
       "      <th>district_code_75</th>\n",
       "      <th>district_code_77</th>\n",
       "      <th>district_code_78</th>\n",
       "      <th>district_code_91</th>\n",
       "      <th>district_code_92</th>\n",
       "      <th>district_code_93</th>\n",
       "      <th>district_code_94</th>\n",
       "      <th>district_code_95</th>\n",
       "    </tr>\n",
       "  </thead>\n",
       "  <tbody>\n",
       "    <tr>\n",
       "      <th>0</th>\n",
       "      <td>-378.818884</td>\n",
       "      <td>1.088962</td>\n",
       "      <td>0.470287</td>\n",
       "      <td>-0.082162</td>\n",
       "      <td>0.900754</td>\n",
       "      <td>-0.371985</td>\n",
       "      <td>0.100981</td>\n",
       "      <td>-0.095945</td>\n",
       "      <td>-0.024260</td>\n",
       "      <td>-0.077109</td>\n",
       "      <td>-0.047155</td>\n",
       "      <td>-1.871536e-16</td>\n",
       "      <td>2.652501e-16</td>\n",
       "    </tr>\n",
       "    <tr>\n",
       "      <th>1</th>\n",
       "      <td>-2757.818867</td>\n",
       "      <td>-1.701965</td>\n",
       "      <td>0.221493</td>\n",
       "      <td>0.186180</td>\n",
       "      <td>0.008366</td>\n",
       "      <td>0.279684</td>\n",
       "      <td>0.017861</td>\n",
       "      <td>0.795182</td>\n",
       "      <td>-0.364077</td>\n",
       "      <td>-0.208086</td>\n",
       "      <td>0.007487</td>\n",
       "      <td>8.259250e-16</td>\n",
       "      <td>-9.557242e-17</td>\n",
       "    </tr>\n",
       "    <tr>\n",
       "      <th>2</th>\n",
       "      <td>-86.818876</td>\n",
       "      <td>-0.298757</td>\n",
       "      <td>0.326836</td>\n",
       "      <td>-0.025274</td>\n",
       "      <td>0.137778</td>\n",
       "      <td>0.340798</td>\n",
       "      <td>0.053722</td>\n",
       "      <td>0.815980</td>\n",
       "      <td>-0.342082</td>\n",
       "      <td>-0.216801</td>\n",
       "      <td>-0.012745</td>\n",
       "      <td>3.540802e-16</td>\n",
       "      <td>1.125944e-16</td>\n",
       "    </tr>\n",
       "    <tr>\n",
       "      <th>3</th>\n",
       "      <td>-3771.818876</td>\n",
       "      <td>-0.323063</td>\n",
       "      <td>0.324646</td>\n",
       "      <td>-0.033728</td>\n",
       "      <td>0.135379</td>\n",
       "      <td>0.334292</td>\n",
       "      <td>0.053669</td>\n",
       "      <td>0.813290</td>\n",
       "      <td>-0.344920</td>\n",
       "      <td>-0.218836</td>\n",
       "      <td>-0.012770</td>\n",
       "      <td>3.540802e-16</td>\n",
       "      <td>-2.618348e-17</td>\n",
       "    </tr>\n",
       "    <tr>\n",
       "      <th>4</th>\n",
       "      <td>-4795.818894</td>\n",
       "      <td>2.500877</td>\n",
       "      <td>0.575146</td>\n",
       "      <td>-0.209729</td>\n",
       "      <td>0.050386</td>\n",
       "      <td>0.296841</td>\n",
       "      <td>0.901216</td>\n",
       "      <td>-0.078445</td>\n",
       "      <td>0.212434</td>\n",
       "      <td>-0.053440</td>\n",
       "      <td>-0.197967</td>\n",
       "      <td>-1.699832e-15</td>\n",
       "      <td>8.960931e-17</td>\n",
       "    </tr>\n",
       "  </tbody>\n",
       "</table>\n",
       "</div>"
      ],
      "text/plain": [
       "         cells     rooms  price/m²  type_Appartement  type_Maison  \\\n",
       "0  -378.818884  1.088962  0.470287         -0.082162     0.900754   \n",
       "1 -2757.818867 -1.701965  0.221493          0.186180     0.008366   \n",
       "2   -86.818876 -0.298757  0.326836         -0.025274     0.137778   \n",
       "3 -3771.818876 -0.323063  0.324646         -0.033728     0.135379   \n",
       "4 -4795.818894  2.500877  0.575146         -0.209729     0.050386   \n",
       "\n",
       "   district_code_75  district_code_77  district_code_78  district_code_91  \\\n",
       "0         -0.371985          0.100981         -0.095945         -0.024260   \n",
       "1          0.279684          0.017861          0.795182         -0.364077   \n",
       "2          0.340798          0.053722          0.815980         -0.342082   \n",
       "3          0.334292          0.053669          0.813290         -0.344920   \n",
       "4          0.296841          0.901216         -0.078445          0.212434   \n",
       "\n",
       "   district_code_92  district_code_93  district_code_94  district_code_95  \n",
       "0         -0.077109         -0.047155     -1.871536e-16      2.652501e-16  \n",
       "1         -0.208086          0.007487      8.259250e-16     -9.557242e-17  \n",
       "2         -0.216801         -0.012745      3.540802e-16      1.125944e-16  \n",
       "3         -0.218836         -0.012770      3.540802e-16     -2.618348e-17  \n",
       "4         -0.053440         -0.197967     -1.699832e-15      8.960931e-17  "
      ]
     },
     "execution_count": 3853,
     "metadata": {},
     "output_type": "execute_result"
    }
   ],
   "source": [
    "pca = PCA()\n",
    "pca = pca.fit(df_eng)\n",
    "dataPCA = pca.transform(df_eng)\n",
    "dataPCA = pd.DataFrame(dataPCA)\n",
    "dataPCA = dataPCA.rename(columns = {0:\"cells\", 1:\"rooms\", 2:\"price/m²\", 3:\"type_Appartement\", 4:\"type_Maison\", \n",
    "                                    5:\"district_code_75\", 6:\"district_code_77\", 7:\"district_code_78\", 8:\"district_code_91\", \n",
    "                                    9:\"district_code_92\", 10:\"district_code_93\", 11:\"district_code_94\", 12:\"district_code_95\"})\n",
    "dataPCA.head(5)"
   ]
  },
  {
   "cell_type": "code",
   "execution_count": 3854,
   "id": "867e1d88",
   "metadata": {},
   "outputs": [],
   "source": [
    "X = dataPCA.drop(columns=[\"price/m²\"])\n",
    "y = dataPCA[\"price/m²\"]"
   ]
  },
  {
   "cell_type": "code",
   "execution_count": 3855,
   "id": "21e6b490",
   "metadata": {},
   "outputs": [],
   "source": [
    "X_train , X_test , y_train , y_test = train_test_split(X , y , test_size = 0.3, random_state =42)"
   ]
  },
  {
   "cell_type": "code",
   "execution_count": 3856,
   "id": "b2b817f0",
   "metadata": {},
   "outputs": [],
   "source": [
    "gbr = GradientBoostingRegressor()"
   ]
  },
  {
   "cell_type": "code",
   "execution_count": 3857,
   "id": "ee31d43c",
   "metadata": {
    "scrolled": false
   },
   "outputs": [
    {
     "data": {
      "text/plain": [
       "GradientBoostingRegressor()"
      ]
     },
     "execution_count": 3857,
     "metadata": {},
     "output_type": "execute_result"
    }
   ],
   "source": [
    "gbr.fit(X_train, y_train)"
   ]
  },
  {
   "cell_type": "code",
   "execution_count": 3858,
   "id": "2c717508",
   "metadata": {},
   "outputs": [],
   "source": [
    "y_pred = gbr.predict(X_test)"
   ]
  },
  {
   "cell_type": "code",
   "execution_count": 3859,
   "id": "c18c0e2f",
   "metadata": {},
   "outputs": [
    {
     "name": "stdout",
     "output_type": "stream",
     "text": [
      "92.42819212328692\n",
      "87.94016512779834\n"
     ]
    }
   ],
   "source": [
    "print(r2_score(y_train,gbr.predict(X_train))*100)\n",
    "print(r2_score(y_test, y_pred)*100)"
   ]
  },
  {
   "cell_type": "code",
   "execution_count": 3860,
   "id": "a81e513d",
   "metadata": {},
   "outputs": [],
   "source": [
    "train_sizes, train_scores, test_scores = learning_curve(gbr, X, y, cv=10, scoring='r2', n_jobs=-1, train_sizes=np.linspace(0.01, 1.0, 50))"
   ]
  },
  {
   "cell_type": "code",
   "execution_count": 3861,
   "id": "60689fe1",
   "metadata": {},
   "outputs": [],
   "source": [
    "train_mean = np.mean(train_scores, axis=1)\n",
    "train_std = np.std(train_scores, axis=1)\n",
    "\n",
    "test_mean = np.mean(test_scores, axis=1)\n",
    "test_std = np.std(test_scores, axis=1)"
   ]
  },
  {
   "cell_type": "code",
   "execution_count": 3862,
   "id": "5655e661",
   "metadata": {},
   "outputs": [
    {
     "data": {
      "image/png": "[encoded data removed]",
      "text/plain": [
       "<Figure size 500x500 with 1 Axes>"
      ]
     },
     "metadata": {},
     "output_type": "display_data"
    }
   ],
   "source": [
    "plt.subplots(1, figsize=(5,5))\n",
    "plt.plot(train_sizes, train_mean, '--', color=\"#111111\",  label=\"Training score\")\n",
    "plt.plot(train_sizes, test_mean, color=\"#111111\", label=\"Cross-validation score\")\n",
    "\n",
    "plt.fill_between(train_sizes, train_mean - train_std, train_mean + train_std, color=\"#DDDDDD\")\n",
    "plt.fill_between(train_sizes, test_mean - test_std, test_mean + test_std, color=\"#DDDDDD\")\n",
    "\n",
    "plt.title(\"Learning Curve\")\n",
    "plt.xlabel(\"Training Set Size\"), plt.ylabel(\"R2 Score\"), plt.legend(loc=\"best\")\n",
    "plt.tight_layout()\n",
    "plt.show()"
   ]
  },
  {
   "cell_type": "code",
   "execution_count": 3863,
   "id": "b75cd869",
   "metadata": {},
   "outputs": [],
   "source": [
    "def feature_importance_plot(model, X_train, n):\n",
    "    \"\"\"Plots feature importance - this only works for Decision Tree based Models\"\"\"\n",
    "    plt.figure(figsize=(8, 5)) # set figure size\n",
    "    feat_importances = pd.Series(model.feature_importances_,\n",
    "                                 index = X_train.columns)\n",
    "    feat_importances.nlargest(n).plot(kind = 'bar')\n",
    "    plt.title(f\"Top {n} Features\")\n",
    "    plt.show()"
   ]
  },
  {
   "cell_type": "code",
   "execution_count": 3864,
   "id": "d84ab81b",
   "metadata": {
    "scrolled": false
   },
   "outputs": [
    {
     "data": {
      "image/png": "[encoded data removed]",
      "text/plain": [
       "<Figure size 800x500 with 1 Axes>"
      ]
     },
     "metadata": {},
     "output_type": "display_data"
    }
   ],
   "source": [
    "feature_importance_plot(gbr, X_train, 10)"
   ]
  },
  {
   "cell_type": "code",
   "execution_count": 3865,
   "id": "1b468191",
   "metadata": {},
   "outputs": [],
   "source": [
    "from sklearn.metrics import mean_squared_error"
   ]
  },
  {
   "cell_type": "code",
   "execution_count": 3866,
   "id": "63f4c94d",
   "metadata": {},
   "outputs": [
    {
     "data": {
      "text/plain": [
       "0.08285542167485734"
      ]
     },
     "execution_count": 3866,
     "metadata": {},
     "output_type": "execute_result"
    }
   ],
   "source": [
    "mean_squared_error(y_test, y_pred)"
   ]
  },
  {
   "cell_type": "markdown",
   "id": "eb683085",
   "metadata": {},
   "source": [
    "RANDOM FOREST REGRESSOR"
   ]
  },
  {
   "cell_type": "code",
   "execution_count": 3867,
   "id": "7bd4ae3c",
   "metadata": {},
   "outputs": [],
   "source": [
    "from sklearn.ensemble import RandomForestRegressor\n",
    "\n",
    "\n",
    "from sklearn.model_selection import learning_curve\n",
    "from sklearn.decomposition import PCA\n",
    "from sklearn.model_selection import train_test_split\n",
    "from sklearn.metrics import r2_score,mean_absolute_error, mean_squared_error"
   ]
  },
  {
   "cell_type": "code",
   "execution_count": 3868,
   "id": "8130456c",
   "metadata": {},
   "outputs": [],
   "source": [
    "pca = PCA()\n",
    "pca = pca.fit(df_eng)\n",
    "dataPCA = pca.transform(df_eng)\n",
    "dataPCA = pd.DataFrame(dataPCA)\n",
    "dataPCA = dataPCA.rename(columns = {0:\"cells\", 1:\"rooms\", 2:\"price/m²\", 3:\"type_Appartement\", 4:\"type_Maison\", \n",
    "                                    5:\"district_code_75\", 6:\"district_code_77\", 7:\"district_code_78\", 8:\"district_code_91\", \n",
    "                                    9:\"district_code_92\", 10:\"district_code_93\", 11:\"district_code_94\", 12:\"district_code_95\"})"
   ]
  },
  {
   "cell_type": "code",
   "execution_count": 3869,
   "id": "2a8eae49",
   "metadata": {},
   "outputs": [],
   "source": [
    "X = dataPCA.drop(columns=[\"price/m²\"])\n",
    "y = dataPCA[\"price/m²\"]"
   ]
  },
  {
   "cell_type": "code",
   "execution_count": 3870,
   "id": "c05181bd",
   "metadata": {},
   "outputs": [],
   "source": [
    "rf = RandomForestRegressor()"
   ]
  },
  {
   "cell_type": "code",
   "execution_count": 3871,
   "id": "fd55edbe",
   "metadata": {},
   "outputs": [],
   "source": [
    "X_train , X_test , y_train , y_test = train_test_split(X , y , test_size = 0.3, random_state =42)"
   ]
  },
  {
   "cell_type": "code",
   "execution_count": 3872,
   "id": "9667ab87",
   "metadata": {},
   "outputs": [
    {
     "data": {
      "text/plain": [
       "RandomForestRegressor()"
      ]
     },
     "execution_count": 3872,
     "metadata": {},
     "output_type": "execute_result"
    }
   ],
   "source": [
    "rf.fit(X_train, y_train)"
   ]
  },
  {
   "cell_type": "code",
   "execution_count": 3873,
   "id": "b66e999f",
   "metadata": {},
   "outputs": [],
   "source": [
    "y_pred = rf.predict(X_test)"
   ]
  },
  {
   "cell_type": "code",
   "execution_count": 3874,
   "id": "c4acaa0e",
   "metadata": {},
   "outputs": [
    {
     "name": "stdout",
     "output_type": "stream",
     "text": [
      "98.54101589078111\n",
      "94.0297546475706\n"
     ]
    }
   ],
   "source": [
    "print(r2_score(y_train,rf.predict(X_train))*100)\n",
    "print(r2_score(y_test, y_pred)*100)"
   ]
  },
  {
   "cell_type": "code",
   "execution_count": 3875,
   "id": "d9ac56cb",
   "metadata": {},
   "outputs": [],
   "source": [
    "train_sizes, train_scores, test_scores = learning_curve(rf, X, y, cv=10, scoring='r2', n_jobs=-1, train_sizes=np.linspace(0.01, 1.0, 50))"
   ]
  },
  {
   "cell_type": "code",
   "execution_count": 3876,
   "id": "42e9e0e6",
   "metadata": {},
   "outputs": [],
   "source": [
    "train_mean = np.mean(train_scores, axis=1)\n",
    "train_std = np.std(train_scores, axis=1)\n",
    "\n",
    "test_mean = np.mean(test_scores, axis=1)\n",
    "test_std = np.std(test_scores, axis=1)"
   ]
  },
  {
   "cell_type": "code",
   "execution_count": 3877,
   "id": "ad66a322",
   "metadata": {
    "scrolled": false
   },
   "outputs": [
    {
     "data": {
      "image/png": "[encoded data removed]",
      "text/plain": [
       "<Figure size 500x500 with 1 Axes>"
      ]
     },
     "metadata": {},
     "output_type": "display_data"
    }
   ],
   "source": [
    "plt.subplots(1, figsize=(5,5))\n",
    "plt.plot(train_sizes, train_mean, '--', color=\"#111111\",  label=\"Training score\")\n",
    "plt.plot(train_sizes, test_mean, color=\"#111111\", label=\"Cross-validation score\")\n",
    "\n",
    "plt.fill_between(train_sizes, train_mean - train_std, train_mean + train_std, color=\"#DDDDDD\")\n",
    "plt.fill_between(train_sizes, test_mean - test_std, test_mean + test_std, color=\"#DDDDDD\")\n",
    "\n",
    "plt.title(\"Learning Curve\")\n",
    "plt.xlabel(\"Training Set Size\"), plt.ylabel(\"R2 Score\"), plt.legend(loc=\"best\")\n",
    "plt.tight_layout()\n",
    "plt.show()"
   ]
  },
  {
   "cell_type": "code",
   "execution_count": 3878,
   "id": "b5776abd",
   "metadata": {},
   "outputs": [
    {
     "data": {
      "image/png": "[encoded data removed]",
      "text/plain": [
       "<Figure size 800x500 with 1 Axes>"
      ]
     },
     "metadata": {},
     "output_type": "display_data"
    }
   ],
   "source": [
    "feature_importance_plot(rf, X_train, 10)"
   ]
  },
  {
   "cell_type": "code",
   "execution_count": 3879,
   "id": "a9cb1e9f",
   "metadata": {},
   "outputs": [
    {
     "data": {
      "text/plain": [
       "0.04101774206860169"
      ]
     },
     "execution_count": 3879,
     "metadata": {},
     "output_type": "execute_result"
    }
   ],
   "source": [
    "mean_squared_error(y_test, y_pred)"
   ]
  },
  {
   "cell_type": "markdown",
   "id": "f085b052",
   "metadata": {},
   "source": [
    "XGBOOST REGRESSOR"
   ]
  },
  {
   "cell_type": "code",
   "execution_count": 3880,
   "id": "10b0baa4",
   "metadata": {},
   "outputs": [],
   "source": [
    "import xgboost\n",
    "\n",
    "from xgboost import XGBRegressor\n",
    "\n",
    "from sklearn.model_selection import cross_val_score"
   ]
  },
  {
   "cell_type": "code",
   "execution_count": 3881,
   "id": "7a9c376e",
   "metadata": {},
   "outputs": [],
   "source": [
    "pca = PCA()\n",
    "pca = pca.fit(df_eng)\n",
    "dataPCA = pca.transform(df_eng)\n",
    "dataPCA = pd.DataFrame(dataPCA)\n",
    "dataPCA = dataPCA.rename(columns = {0:\"cells\", 1:\"rooms\", 2:\"price/m²\", 3:\"type_Appartement\", 4:\"type_Maison\", \n",
    "                                    5:\"district_code_75\", 6:\"district_code_77\", 7:\"district_code_78\", 8:\"district_code_91\", \n",
    "                                    9:\"district_code_92\", 10:\"district_code_93\", 11:\"district_code_94\", 12:\"district_code_95\"})"
   ]
  },
  {
   "cell_type": "code",
   "execution_count": 3882,
   "id": "f10ffe5c",
   "metadata": {},
   "outputs": [],
   "source": [
    "X = dataPCA.drop(columns=[\"price/m²\"])\n",
    "y = dataPCA[\"price/m²\"]"
   ]
  },
  {
   "cell_type": "code",
   "execution_count": 3883,
   "id": "19839b13",
   "metadata": {},
   "outputs": [],
   "source": [
    "X_train , X_test , y_train , y_test = train_test_split(X , y , test_size = 0.3, random_state =42)"
   ]
  },
  {
   "cell_type": "code",
   "execution_count": 3884,
   "id": "fc4b9095",
   "metadata": {},
   "outputs": [],
   "source": [
    "xgb = XGBRegressor()"
   ]
  },
  {
   "cell_type": "code",
   "execution_count": 3885,
   "id": "e9c45096",
   "metadata": {},
   "outputs": [
    {
     "data": {
      "text/plain": [
       "XGBRegressor(base_score=0.5, booster='gbtree', callbacks=None,\n",
       "             colsample_bylevel=1, colsample_bynode=1, colsample_bytree=1,\n",
       "             early_stopping_rounds=None, enable_categorical=False,\n",
       "             eval_metric=None, feature_types=None, gamma=0, gpu_id=-1,\n",
       "             grow_policy='depthwise', importance_type=None,\n",
       "             interaction_constraints='', learning_rate=0.300000012, max_bin=256,\n",
       "             max_cat_threshold=64, max_cat_to_onehot=4, max_delta_step=0,\n",
       "             max_depth=6, max_leaves=0, min_child_weight=1, missing=nan,\n",
       "             monotone_constraints='()', n_estimators=100, n_jobs=0,\n",
       "             num_parallel_tree=1, predictor='auto', random_state=0, ...)"
      ]
     },
     "execution_count": 3885,
     "metadata": {},
     "output_type": "execute_result"
    }
   ],
   "source": [
    "xgb.fit(X_train, y_train)"
   ]
  },
  {
   "cell_type": "code",
   "execution_count": 3886,
   "id": "474e8cd8",
   "metadata": {},
   "outputs": [],
   "source": [
    "y_pred = xgb.predict(X_test)"
   ]
  },
  {
   "cell_type": "code",
   "execution_count": 3887,
   "id": "e3d2c0fb",
   "metadata": {},
   "outputs": [
    {
     "name": "stdout",
     "output_type": "stream",
     "text": [
      "99.98755148554903\n",
      "94.80244401019813\n"
     ]
    }
   ],
   "source": [
    "print(r2_score(y_train,xgb.predict(X_train))*100)\n",
    "print(r2_score(y_test, y_pred)*100)"
   ]
  },
  {
   "cell_type": "code",
   "execution_count": 3888,
   "id": "ee2d053e",
   "metadata": {},
   "outputs": [],
   "source": [
    "train_sizes, train_scores, test_scores = learning_curve(xgb, X, y, cv=10, scoring='r2', n_jobs=-1, train_sizes=np.linspace(0.01, 1.0, 50))"
   ]
  },
  {
   "cell_type": "code",
   "execution_count": 3889,
   "id": "990312ce",
   "metadata": {},
   "outputs": [],
   "source": [
    "train_mean = np.mean(train_scores, axis=1)\n",
    "train_std = np.std(train_scores, axis=1)\n",
    "\n",
    "test_mean = np.mean(test_scores, axis=1)\n",
    "test_std = np.std(test_scores, axis=1)"
   ]
  },
  {
   "cell_type": "code",
   "execution_count": 3890,
   "id": "b1e63b8d",
   "metadata": {},
   "outputs": [
    {
     "data": {
      "image/png": "[encoded data removed]",
      "text/plain": [
       "<Figure size 500x500 with 1 Axes>"
      ]
     },
     "metadata": {},
     "output_type": "display_data"
    }
   ],
   "source": [
    "plt.subplots(1, figsize=(5,5))\n",
    "plt.plot(train_sizes, train_mean, '--', color=\"#111111\",  label=\"Training score\")\n",
    "plt.plot(train_sizes, test_mean, color=\"#111111\", label=\"Cross-validation score\")\n",
    "\n",
    "plt.fill_between(train_sizes, train_mean - train_std, train_mean + train_std, color=\"#DDDDDD\")\n",
    "plt.fill_between(train_sizes, test_mean - test_std, test_mean + test_std, color=\"#DDDDDD\")\n",
    "\n",
    "plt.title(\"Learning Curve\")\n",
    "plt.xlabel(\"Training Set Size\"), plt.ylabel(\"R2 Score\"), plt.legend(loc=\"best\")\n",
    "plt.tight_layout()\n",
    "plt.show()"
   ]
  },
  {
   "cell_type": "code",
   "execution_count": 3891,
   "id": "1e2ef7ba",
   "metadata": {},
   "outputs": [
    {
     "data": {
      "image/png": "[encoded data removed]",
      "text/plain": [
       "<Figure size 800x500 with 1 Axes>"
      ]
     },
     "metadata": {},
     "output_type": "display_data"
    }
   ],
   "source": [
    "feature_importance_plot(xgb, X_train, 10)"
   ]
  },
  {
   "cell_type": "code",
   "execution_count": 3892,
   "id": "2b9dc50f",
   "metadata": {},
   "outputs": [
    {
     "data": {
      "text/plain": [
       "0.03570908704615585"
      ]
     },
     "execution_count": 3892,
     "metadata": {},
     "output_type": "execute_result"
    }
   ],
   "source": [
    "mean_squared_error(y_test, y_pred)"
   ]
  }
 ],
 "metadata": {
  "kernelspec": {
   "display_name": "Python 3 (ipykernel)",
   "language": "python",
   "name": "python3"
  },
  "language_info": {
   "codemirror_mode": {
    "name": "ipython",
    "version": 3
   },
   "file_extension": ".py",
   "mimetype": "text/x-python",
   "name": "python",
   "nbconvert_exporter": "python",
   "pygments_lexer": "ipython3",
   "version": "3.9.13"
  }
 },
 "nbformat": 4,
 "nbformat_minor": 5
}
